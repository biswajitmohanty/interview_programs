{
  "cells": [
    {
      "cell_type": "code",
      "source": [
        "import numpy as np\n",
        "import\n",
        "x = np.array([1,3])\n",
        "y = np.array([1.0,4.0])\n",
        "z = np.array([1,2],dtype=np.float16)\n",
        "\n",
        "\n",
        "print(z.dtype)\n",
        "print(y.dtype)\n",
        "print(x.dtype)\n"
      ],
      "metadata": {
        "id": "2YWQM4tpI-Va",
        "outputId": "9114719a-36d0-4a00-9809-e79bba15d454",
        "colab": {
          "base_uri": "https://localhost:8080/"
        }
      },
      "execution_count": 4,
      "outputs": [
        {
          "output_type": "stream",
          "name": "stdout",
          "text": [
            "float16\n",
            "float64\n",
            "int64\n"
          ]
        }
      ]
    },
    {
      "cell_type": "code",
      "source": [
        "import time\n",
        "\n",
        "a = np.random.random(100000000)\n",
        "start_time = time.time()\n",
        "start_cpu = time.process_time()\n",
        "x = np.sum(a)\n",
        "end_time = time.time()\n",
        "end_cpu = time.process_time()\n",
        "\n",
        "print(f\"Result: {x}\")\n",
        "print(f\"Time taken: {end_time - start_time} seconds\")\n",
        "print(f\"CPU Time taken: {end_cpu - start_cpu} seconds\")"
      ],
      "metadata": {
        "id": "_iI5txhoJeac",
        "outputId": "1e56173c-936e-47f5-fb38-9698042a5b88",
        "colab": {
          "base_uri": "https://localhost:8080/"
        }
      },
      "execution_count": 9,
      "outputs": [
        {
          "output_type": "stream",
          "name": "stdout",
          "text": [
            "Result: 50005880.56514648\n",
            "Time taken: 0.06847596168518066 seconds\n",
            "CPU Time taken: 0.0690030780000015 seconds\n"
          ]
        }
      ]
    },
    {
      "cell_type": "code",
      "source": [
        "x = np.array([[1,2],[3,4]],dtype=np.float64)\n",
        "y = np.array([[5,6],[7,8]],dtype=np.float64)\n",
        "\n",
        "print(x+y)\n",
        "print(np.add(x,y))\n",
        "print(x/y)\n",
        "print(np.divide(x,y))\n",
        "print(np.subtract(x,y))\n",
        "print(np.multiply(x,y))\n",
        "print(np.sqrt(x,y))\n"
      ],
      "metadata": {
        "id": "UYGINlOQLVK5",
        "outputId": "c79d31de-5197-43f2-b478-11b82a62092a",
        "colab": {
          "base_uri": "https://localhost:8080/"
        }
      },
      "execution_count": 13,
      "outputs": [
        {
          "output_type": "stream",
          "name": "stdout",
          "text": [
            "[[ 6.  8.]\n",
            " [10. 12.]]\n",
            "[[ 6.  8.]\n",
            " [10. 12.]]\n",
            "[[0.2        0.33333333]\n",
            " [0.42857143 0.5       ]]\n",
            "[[0.2        0.33333333]\n",
            " [0.42857143 0.5       ]]\n",
            "[[-4. -4.]\n",
            " [-4. -4.]]\n",
            "[[ 5. 12.]\n",
            " [21. 32.]]\n",
            "[[1.         1.41421356]\n",
            " [1.73205081 2.        ]]\n"
          ]
        }
      ]
    },
    {
      "cell_type": "code",
      "source": [
        "x = np.array([[1,2,3]])\n",
        "y = np.array([[5,6, 4],[7,8, 6], [1,2,3]])\n",
        "\n",
        "v = np.array([9,10])\n",
        "w = np.array([11,12])\n",
        "\n",
        "print(v.dot(w))\n",
        "print(np.dot(v,w))\n",
        "print(x.dot(y))\n",
        "print(np.dot(x,y))\n",
        "print(x @ y)"
      ],
      "metadata": {
        "id": "HEBkv6zdOeIV",
        "outputId": "5b1ac2dc-7e7e-4532-f028-b11031f1d71b",
        "colab": {
          "base_uri": "https://localhost:8080/"
        }
      },
      "execution_count": 16,
      "outputs": [
        {
          "output_type": "stream",
          "name": "stdout",
          "text": [
            "219\n",
            "219\n",
            "[[22 28 25]]\n",
            "[[22 28 25]]\n",
            "[[22 28 25]]\n"
          ]
        }
      ]
    },
    {
      "cell_type": "code",
      "source": [
        "m = np.array([[9,10]])\n",
        "l = np.array([[1,2],[3,4]])\n",
        "print(m, l)\n",
        "print(np.dot(m,l))"
      ],
      "metadata": {
        "id": "UqkUWOcNOfnV",
        "outputId": "133e7d04-00dc-423e-e669-0481c386b540",
        "colab": {
          "base_uri": "https://localhost:8080/"
        }
      },
      "execution_count": 17,
      "outputs": [
        {
          "output_type": "stream",
          "name": "stdout",
          "text": [
            "[[ 9 10]] [[1 2]\n",
            " [3 4]]\n",
            "[[39 58]]\n"
          ]
        }
      ]
    },
    {
      "cell_type": "code",
      "source": [
        "x = np.array([[1,2],[4,5],[7,8]])\n",
        "print(np.max(x))\n",
        "print(np.max(x, axis=0))\n",
        "print(np.max(x, axis=1))"
      ],
      "metadata": {
        "id": "h7Z-hyx2Ql4T",
        "outputId": "7d8a3a26-bc00-476e-9dde-bec44b22d9fc",
        "colab": {
          "base_uri": "https://localhost:8080/"
        }
      },
      "execution_count": 18,
      "outputs": [
        {
          "output_type": "stream",
          "name": "stdout",
          "text": [
            "8\n",
            "[7 8]\n",
            "[2 5 8]\n"
          ]
        }
      ]
    },
    {
      "cell_type": "code",
      "source": [
        "x = np.array([[1,2],[4,5],[7,8]])\n",
        "print(x)\n",
        "print(\"transpose\\n\",x.T)"
      ],
      "metadata": {
        "id": "2wFS7n8pQ7MX",
        "outputId": "8b9f9d03-bc48-451b-933b-7079a55b44c8",
        "colab": {
          "base_uri": "https://localhost:8080/"
        }
      },
      "execution_count": 21,
      "outputs": [
        {
          "output_type": "stream",
          "name": "stdout",
          "text": [
            "[[1 2]\n",
            " [4 5]\n",
            " [7 8]]\n",
            "transpose\n",
            " [[1 4 7]\n",
            " [2 5 8]]\n"
          ]
        }
      ]
    },
    {
      "cell_type": "code",
      "source": [
        "data =  np.array([1,2,4,5,7,8])\n",
        "print(data.shape)\n",
        "print(data)\n",
        "data = data.reshape((2,3))\n",
        "print(data.shape)\n",
        "print(data)\n"
      ],
      "metadata": {
        "id": "JHVhmyuwRWNE",
        "outputId": "55218d96-5517-433e-8c15-92708b7d90d7",
        "colab": {
          "base_uri": "https://localhost:8080/"
        }
      },
      "execution_count": 26,
      "outputs": [
        {
          "output_type": "stream",
          "name": "stdout",
          "text": [
            "(6,)\n",
            "[1 2 4 5 7 8]\n",
            "(2, 3)\n",
            "[[1 2 4]\n",
            " [5 7 8]]\n"
          ]
        }
      ]
    },
    {
      "cell_type": "code",
      "source": [
        "a = np.array([1,2,3])\n",
        "b = np.array([[4],[5],[6]])\n",
        "\n",
        "print(a.shape)\n",
        "print(b.shape)\n",
        "print(a+b)"
      ],
      "metadata": {
        "id": "dAM-eAV8TnbS",
        "outputId": "69a4ddb5-5b36-4055-e7de-f5f281126693",
        "colab": {
          "base_uri": "https://localhost:8080/"
        }
      },
      "execution_count": 27,
      "outputs": [
        {
          "output_type": "stream",
          "name": "stdout",
          "text": [
            "(3,)\n",
            "(3, 1)\n",
            "[[5 6 7]\n",
            " [6 7 8]\n",
            " [7 8 9]]\n"
          ]
        }
      ]
    },
    {
      "cell_type": "code",
      "source": [
        "b = np.array([[4],[5],[6]])\n",
        "c = np.array([[1,2],[3,4],[5,6]])\n",
        "d = b+c\n",
        "print(d)\n",
        "print(b.shape)\n",
        "print(c.shape)\n",
        "print(d.shape)"
      ],
      "metadata": {
        "id": "59wuaqdDUFu7",
        "outputId": "6d098379-15d0-4f3b-fe40-a429a22bb4a2",
        "colab": {
          "base_uri": "https://localhost:8080/"
        }
      },
      "execution_count": 28,
      "outputs": [
        {
          "output_type": "stream",
          "name": "stdout",
          "text": [
            "[[ 5  6]\n",
            " [ 8  9]\n",
            " [11 12]]\n",
            "(3, 1)\n",
            "(3, 2)\n",
            "(3, 2)\n"
          ]
        }
      ]
    },
    {
      "cell_type": "code",
      "source": [
        "# Array Creation\n",
        "a = np.arange(10, 16)\n",
        "b = np.arange(0.1, 0.6, 0.1)\n",
        "c = np.arange(1, 10, dtype=np.int32).reshape(3, 3)\n",
        "\n",
        "print(a.dtype, b.dtype, c.dtype)\n",
        "print(a.shape, b.shape, c.shape)"
      ],
      "metadata": {
        "id": "L3ZQiXLFZaGB",
        "outputId": "81109edc-4d2a-4f51-d91f-a3e90741e94a",
        "colab": {
          "base_uri": "https://localhost:8080/"
        }
      },
      "execution_count": 29,
      "outputs": [
        {
          "output_type": "stream",
          "name": "stdout",
          "text": [
            "int64 float64 int32\n",
            "(6,) (5,) (3, 3)\n"
          ]
        }
      ]
    },
    {
      "cell_type": "code",
      "source": [
        "# Elementwise Operations\n",
        "x = np.arange(1, 7).reshape(2, 3)\n",
        "y = np.arange(7, 13).reshape(2, 3)\n",
        "\n",
        "sum_op = x + y\n",
        "sum_np = np.add(x, y)\n",
        "diff_op = x - y\n",
        "diff_np = np.subtract(x, y)\n",
        "mul_op = x * y\n",
        "mul_np = np.multiply(x, y)\n",
        "div_op = x / y\n",
        "div_np = np.divide(x, y)\n",
        "sqrt_x = np.sqrt(x)\n",
        "\n",
        "print(sum_op, sum_np)\n",
        "print(diff_op, diff_np)\n",
        "print(mul_op, mul_np)\n",
        "print(div_op, div_np)\n",
        "print(sqrt_x)"
      ],
      "metadata": {
        "id": "sQiOyj8AZb67",
        "outputId": "c4ddb94e-01cd-45ef-9c57-5f95df19d8f9",
        "colab": {
          "base_uri": "https://localhost:8080/"
        }
      },
      "execution_count": 30,
      "outputs": [
        {
          "output_type": "stream",
          "name": "stdout",
          "text": [
            "[[ 8 10 12]\n",
            " [14 16 18]] [[ 8 10 12]\n",
            " [14 16 18]]\n",
            "[[-6 -6 -6]\n",
            " [-6 -6 -6]] [[-6 -6 -6]\n",
            " [-6 -6 -6]]\n",
            "[[ 7 16 27]\n",
            " [40 55 72]] [[ 7 16 27]\n",
            " [40 55 72]]\n",
            "[[0.14285714 0.25       0.33333333]\n",
            " [0.4        0.45454545 0.5       ]] [[0.14285714 0.25       0.33333333]\n",
            " [0.4        0.45454545 0.5       ]]\n",
            "[[1.         1.41421356 1.73205081]\n",
            " [2.         2.23606798 2.44948974]]\n"
          ]
        }
      ]
    },
    {
      "cell_type": "code",
      "source": [
        "# Matrix and Vector Operations\n",
        "v = np.array([1, 2, 3])\n",
        "w = np.array([4, 5, 6])\n",
        "\n",
        "inner_dot = v.dot(w)\n",
        "inner_np = np.dot(v, w)\n",
        "\n",
        "x_mat = np.array([[1, 2], [3, 4]])\n",
        "y_mat = np.array([[5, 6], [7, 8]])\n",
        "\n",
        "mat_vec = np.dot(x_mat, v[:2])\n",
        "mat_mat = np.dot(x_mat, y_mat)\n",
        "\n",
        "print(inner_dot, inner_np)\n",
        "print(mat_vec)\n",
        "print(mat_mat)"
      ],
      "metadata": {
        "id": "dEQUg_TWZfk6",
        "outputId": "f144356a-582f-4bee-c8b3-e0a1a836e938",
        "colab": {
          "base_uri": "https://localhost:8080/"
        }
      },
      "execution_count": 31,
      "outputs": [
        {
          "output_type": "stream",
          "name": "stdout",
          "text": [
            "32 32\n",
            "[ 5 11]\n",
            "[[19 22]\n",
            " [43 50]]\n"
          ]
        }
      ]
    },
    {
      "cell_type": "code",
      "source": [
        "# Aggregation Operations\n",
        "a_agg = np.arange(1, 10).reshape(3, 3)\n",
        "\n",
        "max_all = np.max(a_agg)\n",
        "min_all = np.min(a_agg)\n",
        "sum_all = np.sum(a_agg)\n",
        "max_row = np.max(a_agg, axis=1)\n",
        "max_col = np.max(a_agg, axis=0)\n",
        "\n",
        "print(max_all, min_all, sum_all)\n",
        "print(max_row, max_col)"
      ],
      "metadata": {
        "id": "bwEryZ23Zisg",
        "outputId": "28cfca98-a9fa-49c5-d2c7-f7d14c31de88",
        "colab": {
          "base_uri": "https://localhost:8080/"
        }
      },
      "execution_count": 32,
      "outputs": [
        {
          "output_type": "stream",
          "name": "stdout",
          "text": [
            "9 1 45\n",
            "[3 6 9] [7 8 9]\n"
          ]
        }
      ]
    },
    {
      "cell_type": "code",
      "source": [
        "# Reshaping and Transposing\n",
        "a_reshaped = np.arange(1, 5).reshape(2, 2)\n",
        "transposed = a_reshaped.T\n",
        "\n",
        "print(a_reshaped.shape, transposed.shape)\n"
      ],
      "metadata": {
        "id": "f6KUqIaGZlPo",
        "outputId": "e0b82828-c0f1-45dd-e2e5-5ffe1c632778",
        "colab": {
          "base_uri": "https://localhost:8080/"
        }
      },
      "execution_count": 33,
      "outputs": [
        {
          "output_type": "stream",
          "name": "stdout",
          "text": [
            "(2, 2) (2, 2)\n"
          ]
        }
      ]
    },
    {
      "cell_type": "code",
      "source": [
        "# Squeezing and Reshaping\n",
        "a_squeeze = np.arange(4).reshape(4, 1)\n",
        "flattened = a_squeeze.reshape(-1)\n",
        "squeezed = a_squeeze.squeeze()\n",
        "column_vector = flattened.reshape(-1, 1)\n",
        "\n",
        "print(flattened.shape, squeezed.shape, column_vector.shape)"
      ],
      "metadata": {
        "id": "6b2FrMRMZuO1",
        "outputId": "99272c9e-406b-4cab-e9be-1863cca83387",
        "colab": {
          "base_uri": "https://localhost:8080/"
        }
      },
      "execution_count": 34,
      "outputs": [
        {
          "output_type": "stream",
          "name": "stdout",
          "text": [
            "(4,) (4,) (4, 1)\n"
          ]
        }
      ]
    },
    {
      "cell_type": "code",
      "source": [
        "# Array Broadcasting\n",
        "a_broadcast = np.array([[1], [2], [3]])\n",
        "b_broadcast = np.array([[10, 20], [30, 40], [50, 60]])\n",
        "\n",
        "broadcast_add = a_broadcast + b_broadcast\n",
        "\n",
        "print(broadcast_add)"
      ],
      "metadata": {
        "id": "h3PnCDX-ZwyK",
        "outputId": "9d97b3a9-9c1a-4d32-dfee-1c92b4223c82",
        "colab": {
          "base_uri": "https://localhost:8080/"
        }
      },
      "execution_count": 35,
      "outputs": [
        {
          "output_type": "stream",
          "name": "stdout",
          "text": [
            "[[11 21]\n",
            " [32 42]\n",
            " [53 63]]\n"
          ]
        }
      ]
    }
  ],
  "metadata": {
    "colab": {
      "name": "Prompting.ipynb",
      "toc_visible": true,
      "provenance": []
    },
    "google": {
      "image_path": "/static/site-assets/images/docs/logo-python.svg",
      "keywords": [
        "examples",
        "gemini",
        "beginner",
        "googleai",
        "quickstart",
        "python",
        "text",
        "chat",
        "vision",
        "embed"
      ]
    },
    "kernelspec": {
      "display_name": "Python 3",
      "name": "python3"
    }
  },
  "nbformat": 4,
  "nbformat_minor": 0
}