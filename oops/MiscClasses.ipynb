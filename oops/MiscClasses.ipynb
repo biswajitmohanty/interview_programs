{
  "cells": [
    {
      "cell_type": "code",
      "source": [
        "class Phone:\n",
        "    def make_call(self):\n",
        "       print(\"making call\")\n",
        "    def play_game(self):\n",
        "       print(\"playing game\")\n",
        "\n",
        "    def set_color(self,color):\n",
        "        self.color=color\n",
        "\n",
        "    def set_cost(self,cost):\n",
        "        self.cost=cost\n",
        "\n",
        "    def show_colour(self):\n",
        "        return self.color\n",
        "\n",
        "    def show_cost(self):\n",
        "        return self.cost\n",
        "\n",
        "p1= Phone()\n",
        "\n",
        "p1.make_call()\n",
        "p1.play_game()\n",
        "p1.set_color(\"blue\")\n",
        "p1.set_cost(500)\n",
        "print(p1.show_colour())\n",
        "print(p1.show_cost())\n"
      ],
      "metadata": {
        "colab": {
          "base_uri": "https://localhost:8080/"
        },
        "id": "20cidZkXJVNe",
        "outputId": "74559d04-98ea-4726-eeb2-d5a033a6af5b"
      },
      "execution_count": 5,
      "outputs": [
        {
          "output_type": "stream",
          "name": "stdout",
          "text": [
            "making call\n",
            "playing game\n",
            "blue\n",
            "500\n"
          ]
        }
      ]
    },
    {
      "cell_type": "code",
      "source": [
        "class Employee:\n",
        "  def __init__(self,name,age,salary,gender):\n",
        "    self.name=name\n",
        "    self.age=age\n",
        "    self.salary=salary\n",
        "    self.gender=gender\n",
        "  def employee_details(self):\n",
        "    print(\"name of employee is\",self.name)\n",
        "    print(\"age of employee is\",self.age)\n",
        "    print(\"salary of employee is\",self.salary)\n",
        "    print(\"gender of employee is\",self.gender)\n",
        "e1 = Employee(\"Biswa\", 22, 33, \"M\")\n",
        "e1.employee_details()"
      ],
      "metadata": {
        "colab": {
          "base_uri": "https://localhost:8080/"
        },
        "id": "M-Qr2IsKMsSO",
        "outputId": "5818a85f-d52c-48fa-9463-72f728cefdf8"
      },
      "execution_count": 12,
      "outputs": [
        {
          "output_type": "stream",
          "name": "stdout",
          "text": [
            "name of employee is Biswa\n",
            "age of employee is 22\n",
            "salary of employee is 33\n",
            "gender of employee is M\n",
            "None\n",
            "name of employee is Biswa\n",
            "age of employee is 22\n",
            "salary of employee is 33\n",
            "gender of employee is M\n"
          ]
        }
      ]
    },
    {
      "cell_type": "code",
      "source": [
        "class Animal:\n",
        "    def __init__(self, species):\n",
        "        self.species = species\n",
        "\n",
        "    def display_species(self):\n",
        "        print(f\"Species: {self.species}\")\n",
        "animal = Animal(\"Dog\")\n",
        "animal.display_species()\n"
      ],
      "metadata": {
        "colab": {
          "base_uri": "https://localhost:8080/"
        },
        "id": "Du5_2_YaWc79",
        "outputId": "92e39e32-051e-4b18-c641-6c7c658a2300"
      },
      "execution_count": 13,
      "outputs": [
        {
          "output_type": "stream",
          "name": "stdout",
          "text": [
            "Species: Dog\n"
          ]
        }
      ]
    },
    {
      "cell_type": "code",
      "source": [
        "class Person:\n",
        "    def greet(self):\n",
        "        print(\"Hello!\")\n",
        "\n",
        "person = Person()\n",
        "person.greet()\n"
      ],
      "metadata": {
        "colab": {
          "base_uri": "https://localhost:8080/"
        },
        "id": "KFWathhhWfhb",
        "outputId": "f0b5debd-e6c4-41e3-8562-9616287d28e8"
      },
      "execution_count": 14,
      "outputs": [
        {
          "output_type": "stream",
          "name": "stdout",
          "text": [
            "Hello!\n"
          ]
        }
      ]
    },
    {
      "cell_type": "code",
      "source": [
        "class Car:\n",
        "    def __init__(self, brand, year):\n",
        "        self.brand = brand\n",
        "        self.year = year\n",
        "\n",
        "    def display_details(self):\n",
        "        print(f\"Brand: {self.brand}, Year: {self.year}\")\n",
        "\n",
        "car = Car(\"Toyota\", 2020)\n",
        "car.display_details()\n"
      ],
      "metadata": {
        "colab": {
          "base_uri": "https://localhost:8080/"
        },
        "id": "fFvFrPqqWlnM",
        "outputId": "3febb3c4-aed6-42fd-dfdd-8cf7ee4a5548"
      },
      "execution_count": 15,
      "outputs": [
        {
          "output_type": "stream",
          "name": "stdout",
          "text": [
            "Brand: Toyota, Year: 2020\n"
          ]
        }
      ]
    },
    {
      "cell_type": "code",
      "source": [
        "import math\n",
        "\n",
        "class Circle:\n",
        "    def __init__(self, radius):\n",
        "        self.radius = radius\n",
        "\n",
        "    def area(self):\n",
        "        return math.pi * self.radius ** 2\n",
        "\n",
        "circle = Circle(5)\n",
        "print(f\"Area of the circle: {circle.area():.2f}\")\n"
      ],
      "metadata": {
        "colab": {
          "base_uri": "https://localhost:8080/"
        },
        "id": "5VfyuSCAWoFe",
        "outputId": "31062476-bbd1-483e-a6e7-3429dfa516b1"
      },
      "execution_count": 16,
      "outputs": [
        {
          "output_type": "stream",
          "name": "stdout",
          "text": [
            "Area of the circle: 78.54\n"
          ]
        }
      ]
    },
    {
      "cell_type": "code",
      "source": [
        "class Student:\n",
        "    def __init__(self, name, age):\n",
        "        self.name = name\n",
        "        self.age = age\n",
        "\n",
        "    def set_age(self, age):\n",
        "        self.age = age\n",
        "\n",
        "    def get_age(self):\n",
        "        return self.age\n",
        "\n",
        "student = Student(\"Alice\", 20)\n",
        "student.set_age(21)\n",
        "print(f\"Name: {student.name}, Age: {student.get_age()}\")\n"
      ],
      "metadata": {
        "colab": {
          "base_uri": "https://localhost:8080/"
        },
        "id": "bxaJsCuQWrhG",
        "outputId": "ac15b68f-5515-48b1-f6cb-5dc4ede65310"
      },
      "execution_count": 17,
      "outputs": [
        {
          "output_type": "stream",
          "name": "stdout",
          "text": [
            "Name: Alice, Age: 21\n"
          ]
        }
      ]
    },
    {
      "cell_type": "code",
      "source": [
        "class Employee:\n",
        "    def __init__(self, name, salary=30000):\n",
        "        self.name = name\n",
        "        self.salary = salary\n",
        "\n",
        "    def display_details(self):\n",
        "        print(f\"Name: {self.name}, Salary: {self.salary}\")\n",
        "\n",
        "employee = Employee(\"John\")\n",
        "employee.display_details()\n"
      ],
      "metadata": {
        "colab": {
          "base_uri": "https://localhost:8080/"
        },
        "id": "PzHwcRVOWwqJ",
        "outputId": "f2f486fd-213a-4b26-f2d1-cba2c062d62e"
      },
      "execution_count": 18,
      "outputs": [
        {
          "output_type": "stream",
          "name": "stdout",
          "text": [
            "Name: John, Salary: 30000\n"
          ]
        }
      ]
    },
    {
      "cell_type": "code",
      "source": [
        "class Book:\n",
        "    def __init__(self, title, author):\n",
        "        self.title = title\n",
        "        self.author = author\n",
        "\n",
        "    def display_details(self):\n",
        "        print(f\"Title: {self.title}, Author: {self.author}\")\n",
        "\n",
        "book = Book(\"1984\", \"George Orwell\")\n",
        "book.display_details()\n"
      ],
      "metadata": {
        "colab": {
          "base_uri": "https://localhost:8080/"
        },
        "id": "MmGMccQaWwti",
        "outputId": "597944ec-4b6e-4cb2-a03e-ff27106237cf"
      },
      "execution_count": 19,
      "outputs": [
        {
          "output_type": "stream",
          "name": "stdout",
          "text": [
            "Title: 1984, Author: George Orwell\n"
          ]
        }
      ]
    },
    {
      "cell_type": "code",
      "source": [
        "class Laptop:\n",
        "    def __init__(self, price):\n",
        "        self.price = price\n",
        "\n",
        "    def apply_discount(self, percentage):\n",
        "        self.price -= self.price * (percentage / 100)\n",
        "        print(f\"New price after discount: {self.price:.2f}\")\n",
        "\n",
        "laptop = Laptop(1000)\n",
        "laptop.apply_discount(10)\n"
      ],
      "metadata": {
        "colab": {
          "base_uri": "https://localhost:8080/"
        },
        "id": "c0qtK1sqW4vA",
        "outputId": "87407e42-dc95-4691-b0e3-42c08a1e0d3a"
      },
      "execution_count": 20,
      "outputs": [
        {
          "output_type": "stream",
          "name": "stdout",
          "text": [
            "New price after discount: 900.00\n"
          ]
        }
      ]
    },
    {
      "cell_type": "code",
      "source": [
        "class Rectangle:\n",
        "    def __init__(self, width, height):\n",
        "        self.width = width\n",
        "        self.height = height\n",
        "\n",
        "    def perimeter(self):\n",
        "        return 2 * (self.width + self.height)\n",
        "\n",
        "rectangle = Rectangle(4, 7)\n",
        "print(f\"Perimeter of the rectangle: {rectangle.perimeter()}\")\n"
      ],
      "metadata": {
        "colab": {
          "base_uri": "https://localhost:8080/"
        },
        "id": "YSs7dIXMW8Ue",
        "outputId": "891cb04e-7f74-4f74-cea5-ce372acab58a"
      },
      "execution_count": 21,
      "outputs": [
        {
          "output_type": "stream",
          "name": "stdout",
          "text": [
            "Perimeter of the rectangle: 22\n"
          ]
        }
      ]
    },
    {
      "cell_type": "code",
      "source": [
        "class Employee:\n",
        "    def __init__(self, name, position, salary):\n",
        "        self.name = name\n",
        "        self.position = position\n",
        "        self.salary = salary\n",
        "\n",
        "    def display_details(self):\n",
        "        print(f\"Name: {self.name}, Position: {self.position}, Salary: {self.salary}\")\n",
        "\n",
        "    def update_salary(self, percentage):\n",
        "        self.salary += self.salary * (percentage / 100)\n",
        "        print(f\"Updated Salary: {self.salary:.2f}\")\n",
        "\n",
        "employee = Employee(\"Jane\", \"Manager\", 50000)\n",
        "employee.display_details()\n",
        "employee.update_salary(10)\n"
      ],
      "metadata": {
        "colab": {
          "base_uri": "https://localhost:8080/"
        },
        "id": "QYu5HxyTW_iE",
        "outputId": "e05015a8-d785-4aa8-ab44-1325c46e856e"
      },
      "execution_count": 22,
      "outputs": [
        {
          "output_type": "stream",
          "name": "stdout",
          "text": [
            "Name: Jane, Position: Manager, Salary: 50000\n",
            "Updated Salary: 55000.00\n"
          ]
        }
      ]
    }
  ],
  "metadata": {
    "colab": {
      "name": "Prompting.ipynb",
      "toc_visible": true,
      "provenance": []
    },
    "google": {
      "image_path": "/static/site-assets/images/docs/logo-python.svg",
      "keywords": [
        "examples",
        "gemini",
        "beginner",
        "googleai",
        "quickstart",
        "python",
        "text",
        "chat",
        "vision",
        "embed"
      ]
    },
    "kernelspec": {
      "display_name": "Python 3",
      "name": "python3"
    }
  },
  "nbformat": 4,
  "nbformat_minor": 0
}