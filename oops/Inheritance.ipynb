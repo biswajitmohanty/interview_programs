{
  "cells": [
    {
      "cell_type": "code",
      "source": [
        "class Vehicle:\n",
        "    def __init__(self, make, model, year):\n",
        "        self.make = make\n",
        "        self.model = model\n",
        "        self.year = year\n",
        "\n",
        "    def start_engine(self):\n",
        "        print(\"Engine started.\")\n",
        "    def show_details(self):\n",
        "        print(f\"Make: {self.make}\")\n",
        "        print(f\"Model: {self.model}\")\n",
        "        print(f\"Year: {self.year}\")\n",
        "\n",
        "v1= Vehicle(\"Toyota\", \"Camry\", 2022)\n",
        "v1.start_engine()\n",
        "v1.show_details()\n",
        "print(\"\")\n",
        "\n",
        "class Car(Vehicle):\n",
        "    def __init__(self, make, model, year, tyres, hp):\n",
        "        super().__init__(make, model, year)\n",
        "        self.tyres = tyres\n",
        "        self.hp = hp\n",
        "    def show_details(self):\n",
        "        super().show_details()\n",
        "        print(f\"Tyres: {self.tyres}\")\n",
        "        print(f\"HP: {self.hp}\")\n",
        "c1= Car(\"Toyota\", \"Innova\", 2022, 4, 200)\n",
        "c1.start_engine()\n",
        "c1.show_details()"
      ],
      "metadata": {
        "colab": {
          "base_uri": "https://localhost:8080/"
        },
        "id": "gdI6XO3zP8sD",
        "outputId": "b55cf354-92f7-4f37-d336-9bbd155649e7"
      },
      "execution_count": 10,
      "outputs": [
        {
          "output_type": "stream",
          "name": "stdout",
          "text": [
            "Engine started.\n",
            "Make: Toyota\n",
            "Model: Camry\n",
            "Year: 2022\n",
            "\n",
            "Engine started.\n",
            "Make: Toyota\n",
            "Model: Innova\n",
            "Year: 2022\n",
            "Tyres: 4\n",
            "HP: 200\n"
          ]
        }
      ]
    },
    {
      "cell_type": "code",
      "source": [
        "class Parent1():\n",
        "  def assign_str_one(self, str1):\n",
        "    self.str1 = str1\n",
        "  def show_str_one(self):\n",
        "    return self.str1\n",
        "class Parent2():\n",
        "  def assign_str_two(self, str2):\n",
        "    self.str2 = str2\n",
        "  def show_str_two(self):\n",
        "    return self.str2\n",
        "class Derieved(Parent1, Parent2):\n",
        "  def assign_str_three(self, str3):\n",
        "    self.str3 = str3\n",
        "  def show_str_three(self):\n",
        "    return self.str3\n",
        "d1 = Derieved()\n",
        "d1.assign_str_one(\"one\")\n",
        "d1.assign_str_two(\"two\")\n",
        "d1.assign_str_three(\"three\")\n",
        "print(d1.show_str_one())\n",
        "print(d1.show_str_two())\n",
        "print(d1.show_str_three())"
      ],
      "metadata": {
        "colab": {
          "base_uri": "https://localhost:8080/"
        },
        "id": "reW0ObzaUa4F",
        "outputId": "1f8e9b4c-5611-4f66-89d7-503eb8ca7c0c"
      },
      "execution_count": 18,
      "outputs": [
        {
          "output_type": "stream",
          "name": "stdout",
          "text": [
            "one\n",
            "two\n",
            "three\n"
          ]
        }
      ]
    },
    {
      "cell_type": "code",
      "source": [
        "class Parent():\n",
        "  def assign_name(self, name):\n",
        "    self.name = name\n",
        "  def show_name(self):\n",
        "    return self.name\n",
        "class Child(Parent):\n",
        "  def assign_age(self, age):\n",
        "    self.age = age\n",
        "  def show_age(self):\n",
        "    return self.age\n",
        "class GrandChild(Child):\n",
        "  def assign_gender(self, gender):\n",
        "    self.gender = gender\n",
        "  def show_gender(self):\n",
        "    return self.gender\n",
        "g1 = GrandChild()\n",
        "g1.assign_name(\"John\")\n",
        "g1.assign_age(12)\n",
        "g1.assign_gender(\"Male\")\n",
        "print(g1.show_name(), g1.show_age(), g1.show_gender())"
      ],
      "metadata": {
        "colab": {
          "base_uri": "https://localhost:8080/"
        },
        "id": "XRAUkVBZWIVj",
        "outputId": "dd938838-bd6f-4cb6-ca19-7b644bb85091"
      },
      "execution_count": 20,
      "outputs": [
        {
          "output_type": "stream",
          "name": "stdout",
          "text": [
            "John 12 Male\n"
          ]
        }
      ]
    },
    {
      "cell_type": "code",
      "source": [
        "class Person:\n",
        "    def __init__(self, name, age):\n",
        "        self.name = name\n",
        "        self.age = age\n",
        "\n",
        "class Student(Person):\n",
        "    def __init__(self, name, age, grade):\n",
        "        super().__init__(name, age)\n",
        "        self.grade = grade\n",
        "\n",
        "    def display_details(self):\n",
        "        return f\"Name: {self.name}, Age: {self.age}, Grade: {self.grade}\"\n",
        "\n",
        "student = Student(\"Alice\", 20, \"A\")\n",
        "print(student.display_details())"
      ],
      "metadata": {
        "colab": {
          "base_uri": "https://localhost:8080/"
        },
        "id": "ToPNT6sEeIMW",
        "outputId": "80cf1852-0643-416c-bf0c-e4c8a66d88d4"
      },
      "execution_count": 21,
      "outputs": [
        {
          "output_type": "stream",
          "name": "stdout",
          "text": [
            "Name: Alice, Age: 20, Grade: A\n"
          ]
        }
      ]
    },
    {
      "cell_type": "code",
      "source": [
        "class Parent:\n",
        "    def show_message(self):\n",
        "        return \"This is the parent class.\"\n",
        "\n",
        "class Child(Parent):\n",
        "    def show_message(self):\n",
        "        return \"This is the child class.\"\n",
        "\n",
        "parent = Parent()\n",
        "child = Child()\n",
        "print(parent.show_message())\n",
        "print(child.show_message())"
      ],
      "metadata": {
        "colab": {
          "base_uri": "https://localhost:8080/"
        },
        "id": "XVi1KTRVeMFK",
        "outputId": "34c461c6-8ce0-444b-d329-154414c48e95"
      },
      "execution_count": 22,
      "outputs": [
        {
          "output_type": "stream",
          "name": "stdout",
          "text": [
            "This is the parent class.\n",
            "This is the child class.\n"
          ]
        }
      ]
    },
    {
      "cell_type": "code",
      "source": [
        "class Bird:\n",
        "    def fly(self):\n",
        "        return \"Flying\"\n",
        "\n",
        "class Fish:\n",
        "    def swim(self):\n",
        "        return \"Swimming\"\n",
        "\n",
        "class Penguin(Bird, Fish):\n",
        "    def walk(self):\n",
        "        return \"Walking\"\n",
        "\n",
        "penguin = Penguin()\n",
        "print(penguin.fly())\n",
        "print(penguin.swim())\n",
        "print(penguin.walk())"
      ],
      "metadata": {
        "colab": {
          "base_uri": "https://localhost:8080/"
        },
        "id": "GWsUvo6WePKz",
        "outputId": "b1a6a730-e593-4958-c25a-402726881a91"
      },
      "execution_count": 23,
      "outputs": [
        {
          "output_type": "stream",
          "name": "stdout",
          "text": [
            "Flying\n",
            "Swimming\n",
            "Walking\n"
          ]
        }
      ]
    },
    {
      "cell_type": "code",
      "source": [
        "class Grandparent:\n",
        "    def grandparent_info(self):\n",
        "        return \"This is the grandparent.\"\n",
        "\n",
        "class Parent(Grandparent):\n",
        "    def parent_info(self):\n",
        "        return \"This is the parent.\"\n",
        "\n",
        "class Child(Parent):\n",
        "    def child_info(self):\n",
        "        return \"This is the child.\"\n",
        "\n",
        "child = Child()\n",
        "print(child.grandparent_info())\n",
        "print(child.parent_info())\n",
        "print(child.child_info())"
      ],
      "metadata": {
        "colab": {
          "base_uri": "https://localhost:8080/"
        },
        "id": "16sQbi0ZeScA",
        "outputId": "445d6a3e-e2d7-4949-e44b-ee8eb529343e"
      },
      "execution_count": 24,
      "outputs": [
        {
          "output_type": "stream",
          "name": "stdout",
          "text": [
            "This is the grandparent.\n",
            "This is the parent.\n",
            "This is the child.\n"
          ]
        }
      ]
    },
    {
      "cell_type": "code",
      "source": [
        "class Vehicle:\n",
        "    def __init__(self, mileage, cost):\n",
        "        self.mileage = mileage\n",
        "        self.cost = cost\n",
        "\n",
        "class Car(Vehicle):\n",
        "    def __init__(self, mileage, cost, tyres, hp):\n",
        "        super().__init__(mileage, cost)\n",
        "        self.tyres = tyres\n",
        "        self.hp = hp\n",
        "\n",
        "car = Car(15, 20000, 4, 150)\n",
        "print(f\"Mileage: {car.mileage}, Cost: {car.cost}, Tyres: {car.tyres}, HP: {car.hp}\")"
      ],
      "metadata": {
        "colab": {
          "base_uri": "https://localhost:8080/"
        },
        "id": "hLdmcVdUeV2b",
        "outputId": "70882157-fc2f-40a8-812a-b971e52d6588"
      },
      "execution_count": 25,
      "outputs": [
        {
          "output_type": "stream",
          "name": "stdout",
          "text": [
            "Mileage: 15, Cost: 20000, Tyres: 4, HP: 150\n"
          ]
        }
      ]
    },
    {
      "cell_type": "code",
      "source": [
        "class Parent:\n",
        "    def greet(self):\n",
        "        return \"Hello from Parent\"\n",
        "\n",
        "class Child(Parent):\n",
        "    def greet(self):\n",
        "        return f\"{super().greet()} and Hello from Child\"\n",
        "\n",
        "child = Child()\n",
        "print(child.greet())"
      ],
      "metadata": {
        "colab": {
          "base_uri": "https://localhost:8080/"
        },
        "id": "eC4Hz_lneXIt",
        "outputId": "c55d2a30-0208-4cec-e022-c0234e7b20a9"
      },
      "execution_count": 26,
      "outputs": [
        {
          "output_type": "stream",
          "name": "stdout",
          "text": [
            "Hello from Parent and Hello from Child\n"
          ]
        }
      ]
    },
    {
      "cell_type": "code",
      "source": [
        "class Base:\n",
        "    def __init__(self, x):\n",
        "        self.x = x\n",
        "\n",
        "class Derived(Base):\n",
        "    def __init__(self, x, y):\n",
        "        super().__init__(x)\n",
        "        self.y = y\n",
        "\n",
        "derived = Derived(10, 20)\n",
        "print(f\"x: {derived.x}, y: {derived.y}\")"
      ],
      "metadata": {
        "colab": {
          "base_uri": "https://localhost:8080/"
        },
        "id": "Qcn69PNdeZ45",
        "outputId": "65b8ded4-8a8b-4731-c119-9f8ab4ec4f84"
      },
      "execution_count": 27,
      "outputs": [
        {
          "output_type": "stream",
          "name": "stdout",
          "text": [
            "x: 10, y: 20\n"
          ]
        }
      ]
    },
    {
      "cell_type": "code",
      "source": [
        "import math\n",
        "\n",
        "class Shape:\n",
        "    def area(self):\n",
        "        raise NotImplementedError\n",
        "\n",
        "    def perimeter(self):\n",
        "        raise NotImplementedError\n",
        "\n",
        "class Rectangle(Shape):\n",
        "    def __init__(self, width, height):\n",
        "        self.width = width\n",
        "        self.height = height\n",
        "\n",
        "    def area(self):\n",
        "        return self.width * self.height\n",
        "\n",
        "    def perimeter(self):\n",
        "        return 2 * (self.width + self.height)\n",
        "\n",
        "class Circle(Shape):\n",
        "    def __init__(self, radius):\n",
        "        self.radius = radius\n",
        "\n",
        "    def area(self):\n",
        "        return math.pi * self.radius ** 2\n",
        "\n",
        "    def perimeter(self):\n",
        "        return 2 * math.pi * self.radius\n",
        "\n",
        "rectangle = Rectangle(4, 5)\n",
        "circle = Circle(3)\n",
        "print(f\"Rectangle - Area: {rectangle.area()}, Perimeter: {rectangle.perimeter()}\")\n",
        "print(f\"Circle - Area: {circle.area()}, Perimeter: {circle.perimeter()}\")"
      ],
      "metadata": {
        "colab": {
          "base_uri": "https://localhost:8080/"
        },
        "id": "nRnHw6H7ecjV",
        "outputId": "4484a8de-0e8e-40b9-f6e3-f597e85ed232"
      },
      "execution_count": 28,
      "outputs": [
        {
          "output_type": "stream",
          "name": "stdout",
          "text": [
            "Rectangle - Area: 20, Perimeter: 18\n",
            "Circle - Area: 28.274333882308138, Perimeter: 18.84955592153876\n"
          ]
        }
      ]
    },
    {
      "cell_type": "code",
      "source": [
        "class Device:\n",
        "    def power_on(self):\n",
        "        return \"Powering on\"\n",
        "\n",
        "class Phone(Device):\n",
        "    def make_call(self):\n",
        "        return \"Making a call\"\n",
        "\n",
        "class SmartPhone(Phone):\n",
        "    def browse_web(self):\n",
        "        return \"Browsing the web\"\n",
        "\n",
        "smartphone = SmartPhone()\n",
        "print(smartphone.power_on())\n",
        "print(smartphone.make_call())\n",
        "print(smartphone.browse_web())"
      ],
      "metadata": {
        "colab": {
          "base_uri": "https://localhost:8080/"
        },
        "id": "UNuoX0_3enlb",
        "outputId": "9de7bc30-a201-495e-f7ed-fc0af6924b6e"
      },
      "execution_count": 29,
      "outputs": [
        {
          "output_type": "stream",
          "name": "stdout",
          "text": [
            "Powering on\n",
            "Making a call\n",
            "Browsing the web\n"
          ]
        }
      ]
    },
    {
      "cell_type": "code",
      "source": [
        "class BankAccount:\n",
        "    def __init__(self, initial_balance):\n",
        "        self.__balance = initial_balance\n",
        "\n",
        "    def deposit(self, amount):\n",
        "        self.__balance += amount\n",
        "\n",
        "    def withdraw(self, amount):\n",
        "        if amount <= self.__balance:\n",
        "            self.__balance -= amount\n",
        "        else:\n",
        "            return \"Insufficient funds\"\n",
        "\n",
        "    def check_balance(self):\n",
        "        return self.__balance\n",
        "\n",
        "class SavingsAccount(BankAccount):\n",
        "    def __init__(self, initial_balance, interest_rate):\n",
        "        super().__init__(initial_balance)\n",
        "        self.interest_rate = interest_rate\n",
        "\n",
        "    def calculate_interest(self):\n",
        "        return self.check_balance() * self.interest_rate\n",
        "\n",
        "savings_account = SavingsAccount(1000, 0.05)\n",
        "savings_account.deposit(500)\n",
        "savings_account.withdraw(300)\n",
        "print(f\"Balance: {savings_account.check_balance()}, Interest: {savings_account.calculate_interest()}\")"
      ],
      "metadata": {
        "colab": {
          "base_uri": "https://localhost:8080/"
        },
        "id": "dM9mBbsherS6",
        "outputId": "fedbe326-bb0b-4df1-bb38-760f115a1aa2"
      },
      "execution_count": 30,
      "outputs": [
        {
          "output_type": "stream",
          "name": "stdout",
          "text": [
            "Balance: 1200, Interest: 60.0\n"
          ]
        }
      ]
    }
  ],
  "metadata": {
    "colab": {
      "name": "Prompting.ipynb",
      "toc_visible": true,
      "provenance": []
    },
    "google": {
      "image_path": "/static/site-assets/images/docs/logo-python.svg",
      "keywords": [
        "examples",
        "gemini",
        "beginner",
        "googleai",
        "quickstart",
        "python",
        "text",
        "chat",
        "vision",
        "embed"
      ]
    },
    "kernelspec": {
      "display_name": "Python 3",
      "name": "python3"
    }
  },
  "nbformat": 4,
  "nbformat_minor": 0
}