{
  "cells": [
    {
      "cell_type": "markdown",
      "metadata": {
        "id": "view-in-github",
        "colab_type": "text"
      },
      "source": [
        "<a href=\"https://colab.research.google.com/github/biswajitmohanty/interview_programs/blob/main/quickstarts/Prompting.ipynb\" target=\"_parent\"><img src=\"https://colab.research.google.com/assets/colab-badge.svg\" alt=\"Open In Colab\"/></a>"
      ]
    },
    {
      "cell_type": "code",
      "source": [
        "\n",
        "import random\n",
        "population_size = 1000\n",
        "sample_size = 50\n",
        "\n",
        "population = [f\"Student_{i+1}\" for i in range(population_size)]\n",
        "\n",
        "sample = random.sample(population, sample_size)\n",
        "print(\"Simple Random Sample:\", sample)\n"
      ],
      "metadata": {
        "colab": {
          "base_uri": "https://localhost:8080/"
        },
        "id": "4SVexd8KXPh6",
        "outputId": "5518cf29-2ae5-496d-a9eb-08329dea9a8e"
      },
      "execution_count": 2,
      "outputs": [
        {
          "output_type": "stream",
          "name": "stdout",
          "text": [
            "Simple Random Sample: ['Student_731', 'Student_295', 'Student_998', 'Student_156', 'Student_590', 'Student_997', 'Student_275', 'Student_712', 'Student_828', 'Student_152', 'Student_423', 'Student_113', 'Student_235', 'Student_664', 'Student_365', 'Student_703', 'Student_454', 'Student_393', 'Student_891', 'Student_845', 'Student_726', 'Student_216', 'Student_986', 'Student_496', 'Student_967', 'Student_725', 'Student_505', 'Student_605', 'Student_989', 'Student_747', 'Student_874', 'Student_267', 'Student_352', 'Student_402', 'Student_675', 'Student_258', 'Student_579', 'Student_443', 'Student_95', 'Student_424', 'Student_571', 'Student_875', 'Student_817', 'Student_855', 'Student_382', 'Student_785', 'Student_320', 'Student_480', 'Student_836', 'Student_337']\n"
          ]
        }
      ]
    },
    {
      "cell_type": "code",
      "source": [
        "\n",
        "import random\n",
        "population_size =1000\n",
        "\n",
        "sample_size = 50\n",
        "\n",
        "k = population_size // sample_size\n",
        "\n",
        "start = random.randint(1, k)\n",
        "\n",
        "population = [f\"Student_{i+1}\" for i in range (population_size)]\n",
        "\n",
        "sample = [population [i] for i in range(start-1, len (population), k)]\n",
        "print(\"Systematic Random Sample:\", sample)"
      ],
      "metadata": {
        "colab": {
          "base_uri": "https://localhost:8080/"
        },
        "id": "Ov6roH8QYKMH",
        "outputId": "b3e3c6a4-4b9e-4be6-fbcf-e30baa75f496"
      },
      "execution_count": 4,
      "outputs": [
        {
          "output_type": "stream",
          "name": "stdout",
          "text": [
            "Systematic Random Sample: ['Student_3', 'Student_23', 'Student_43', 'Student_63', 'Student_83', 'Student_103', 'Student_123', 'Student_143', 'Student_163', 'Student_183', 'Student_203', 'Student_223', 'Student_243', 'Student_263', 'Student_283', 'Student_303', 'Student_323', 'Student_343', 'Student_363', 'Student_383', 'Student_403', 'Student_423', 'Student_443', 'Student_463', 'Student_483', 'Student_503', 'Student_523', 'Student_543', 'Student_563', 'Student_583', 'Student_603', 'Student_623', 'Student_643', 'Student_663', 'Student_683', 'Student_703', 'Student_723', 'Student_743', 'Student_763', 'Student_783', 'Student_803', 'Student_823', 'Student_843', 'Student_863', 'Student_883', 'Student_903', 'Student_923', 'Student_943', 'Student_963', 'Student_983']\n"
          ]
        }
      ]
    },
    {
      "cell_type": "code",
      "source": [
        "\n",
        "import random\n",
        "\n",
        "strata = {\n",
        "    \"18-25\": [\"Student_{i+1}\" for i in range (25)],\n",
        "    \"26-35\": [\"Student_{i+26}\" for i in range (30)],\n",
        "    \"36-45\": [\"Student_{i+56}\" for i in range(20)]\n",
        "}\n",
        "\n",
        "sample = []\n",
        "# 20 students\n",
        "# Proportional sample: Select number of samples <value> from each stratum\n",
        "for age_group, group in strata.items():\n",
        "  sample += random.sample(group, 10)\n",
        "\n",
        "print(\"Stratified Random Sample:\", sample)"
      ],
      "metadata": {
        "id": "g35bjcbaY48r",
        "outputId": "59b36cf8-611a-4b34-e309-5032bf14d207",
        "colab": {
          "base_uri": "https://localhost:8080/"
        }
      },
      "execution_count": 10,
      "outputs": [
        {
          "output_type": "stream",
          "name": "stdout",
          "text": [
            "Stratified Random Sample: ['Student_{i+1}', 'Student_{i+1}', 'Student_{i+1}', 'Student_{i+1}', 'Student_{i+1}', 'Student_{i+1}', 'Student_{i+1}', 'Student_{i+1}', 'Student_{i+1}', 'Student_{i+1}', 'Student_{i+26}', 'Student_{i+26}', 'Student_{i+26}', 'Student_{i+26}', 'Student_{i+26}', 'Student_{i+26}', 'Student_{i+26}', 'Student_{i+26}', 'Student_{i+26}', 'Student_{i+26}', 'Student_{i+56}', 'Student_{i+56}', 'Student_{i+56}', 'Student_{i+56}', 'Student_{i+56}', 'Student_{i+56}', 'Student_{i+56}', 'Student_{i+56}', 'Student_{i+56}', 'Student_{i+56}']\n"
          ]
        }
      ]
    },
    {
      "cell_type": "code",
      "source": [
        "\n",
        "import random\n",
        "# Population divided into 5 clusters (groups of students from different classes)\n",
        "clusters = {\n",
        "    \"Class_A\": [f\"Student_{i+1}\" for i in range(20)],\n",
        "    \"Class_B\": [f\"Student_{i+21}\" for i in range(25)],\n",
        "    \"Class_C\": [f\"Student_{i+46}\" for i in range (30)],\n",
        "    \"Class_D\": [f\"Student_{i+76}\" for i in range(15)],\n",
        "    \"Class_E\": [f\"Student_{i+91}\" for i in range(10)]\n",
        "}\n",
        "\n",
        "# Randomly select <value> clusters to sample from\n",
        "selected_clusters = random.sample (list (clusters.keys()), 3) # value needs to be under 6\n",
        "# Collect all students from the selected clusters\n",
        "sample = []\n",
        "for cluster in selected_clusters:\n",
        "  sample += clusters[cluster]\n",
        "print(\"Cluster Sample:\", sample)"
      ],
      "metadata": {
        "id": "v8PxzRG0Z51f",
        "outputId": "ed08c46d-3ff4-4617-f923-9a73603c15d2",
        "colab": {
          "base_uri": "https://localhost:8080/"
        }
      },
      "execution_count": 17,
      "outputs": [
        {
          "output_type": "stream",
          "name": "stdout",
          "text": [
            "Cluster Sample: ['Student_91', 'Student_92', 'Student_93', 'Student_94', 'Student_95', 'Student_96', 'Student_97', 'Student_98', 'Student_99', 'Student_100', 'Student_21', 'Student_22', 'Student_23', 'Student_24', 'Student_25', 'Student_26', 'Student_27', 'Student_28', 'Student_29', 'Student_30', 'Student_31', 'Student_32', 'Student_33', 'Student_34', 'Student_35', 'Student_36', 'Student_37', 'Student_38', 'Student_39', 'Student_40', 'Student_41', 'Student_42', 'Student_43', 'Student_44', 'Student_45', 'Student_1', 'Student_2', 'Student_3', 'Student_4', 'Student_5', 'Student_6', 'Student_7', 'Student_8', 'Student_9', 'Student_10', 'Student_11', 'Student_12', 'Student_13', 'Student_14', 'Student_15', 'Student_16', 'Student_17', 'Student_18', 'Student_19', 'Student_20']\n"
          ]
        }
      ]
    },
    {
      "cell_type": "code",
      "source": [
        "\n",
        "population_size = 1000\n",
        "sample_size = 50\n",
        "\n",
        "population = [f\"Student_{i+1}\" for i in range(population_size)]\n",
        "sample = population[:sample_size]\n",
        "print(\"Convenience Sample:\", sample)"
      ],
      "metadata": {
        "id": "lgnaNnSMahIg",
        "outputId": "8c5dfd32-3daa-42e8-ea62-7b9b1bdc6a61",
        "colab": {
          "base_uri": "https://localhost:8080/"
        }
      },
      "execution_count": 15,
      "outputs": [
        {
          "output_type": "stream",
          "name": "stdout",
          "text": [
            "Convenience Sample: ['Student_1', 'Student_2', 'Student_3', 'Student_4', 'Student_5', 'Student_6', 'Student_7', 'Student_8', 'Student_9', 'Student_10', 'Student_11', 'Student_12', 'Student_13', 'Student_14', 'Student_15', 'Student_16', 'Student_17', 'Student_18', 'Student_19', 'Student_20', 'Student_21', 'Student_22', 'Student_23', 'Student_24', 'Student_25', 'Student_26', 'Student_27', 'Student_28', 'Student_29', 'Student_30', 'Student_31', 'Student_32', 'Student_33', 'Student_34', 'Student_35', 'Student_36', 'Student_37', 'Student_38', 'Student_39', 'Student_40', 'Student_41', 'Student_42', 'Student_43', 'Student_44', 'Student_45', 'Student_46', 'Student_47', 'Student_48', 'Student_49', 'Student_50']\n"
          ]
        }
      ]
    },
    {
      "cell_type": "code",
      "source": [
        "\n",
        "# Population divided into 3 subgroups: 18-25, 26-35, and 36+ ages\n",
        "subgroups = {\n",
        "             \"18-25\": [f\"Student_{i+1}\" for i in range(10)],\n",
        "              \"26-35\": [f\"Student_{i+11}\" for i in range (8)],\n",
        "              \"36+\": [f\"Student_{i+19}\" for i in range(7)]\n",
        "}\n",
        "#Quota: We want to sample 5 students from each group\n",
        "quota_sample = []\n",
        "# Select <value> students from each subgroup (quota)\n",
        "for group in subgroups.values():\n",
        "  quota_sample += random.sample(group, 5)\n",
        "print(\"Quota Sample:\", quota_sample)"
      ],
      "metadata": {
        "id": "3VZfmNSsbtWK",
        "outputId": "613f0f8f-4ed8-4967-b62e-f9a4dc39e730",
        "colab": {
          "base_uri": "https://localhost:8080/"
        }
      },
      "execution_count": 19,
      "outputs": [
        {
          "output_type": "stream",
          "name": "stdout",
          "text": [
            "Quota Sample: ['Student_6', 'Student_7', 'Student_3', 'Student_2', 'Student_4', 'Student_12', 'Student_13', 'Student_14', 'Student_11', 'Student_18', 'Student_25', 'Student_20', 'Student_19', 'Student_23', 'Student_21']\n"
          ]
        }
      ]
    },
    {
      "cell_type": "code",
      "source": [
        "\n",
        "# Snowball sampling example where initial participants refer others. # Let's assume a small population where initial seeds refer others.\n",
        "initial_seed = [\"Student_1\", \"Student_5\", \"Student_9\"]\n",
        "# First, we start with the initial participants and ask them to refer others.\n",
        "# For simplicity, let's assume each participant refers 2 more students.\n",
        "referrals = {\n",
        "\"Student_1\": [\"Student_2\", \"Student_3\"],\n",
        "\"Student_5\": [\"Student_6\", \"Student_7\"],\n",
        "\"Student_9\": [\"Student_10\", \"Student_11\"]\n",
        "}\n",
        "\n",
        "# Start with the initial seed and add referrals\n",
        "sample = initial_seed + [person for referrals_list in referrals.values() for person in referrals_list]\n",
        "print(\"Snowball Sample:\", sample)"
      ],
      "metadata": {
        "id": "KMzyhlxmcHxl",
        "outputId": "193c1dac-45a3-42ce-b0f5-f86980d977fc",
        "colab": {
          "base_uri": "https://localhost:8080/"
        }
      },
      "execution_count": 20,
      "outputs": [
        {
          "output_type": "stream",
          "name": "stdout",
          "text": [
            "Snowball Sample: ['Student_1', 'Student_5', 'Student_9', 'Student_2', 'Student_3', 'Student_6', 'Student_7', 'Student_10', 'Student_11']\n"
          ]
        }
      ]
    }
  ],
  "metadata": {
    "colab": {
      "name": "Prompting.ipynb",
      "toc_visible": true,
      "provenance": [],
      "include_colab_link": true
    },
    "google": {
      "image_path": "/static/site-assets/images/docs/logo-python.svg",
      "keywords": [
        "examples",
        "gemini",
        "beginner",
        "googleai",
        "quickstart",
        "python",
        "text",
        "chat",
        "vision",
        "embed"
      ]
    },
    "kernelspec": {
      "display_name": "Python 3",
      "name": "python3"
    }
  },
  "nbformat": 4,
  "nbformat_minor": 0
}