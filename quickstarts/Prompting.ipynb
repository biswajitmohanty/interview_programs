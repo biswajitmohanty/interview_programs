{
  "cells": [
    {
      "cell_type": "markdown",
      "metadata": {
        "id": "view-in-github",
        "colab_type": "text"
      },
      "source": [
        "<a href=\"https://colab.research.google.com/github/biswajitmohanty/interview_programs/blob/main/quickstarts/Prompting.ipynb\" target=\"_parent\"><img src=\"https://colab.research.google.com/assets/colab-badge.svg\" alt=\"Open In Colab\"/></a>"
      ]
    },
    {
      "cell_type": "code",
      "source": [
        "\n",
        "import random\n",
        "population_size = 1000\n",
        "sample_size = 50\n",
        "\n",
        "population = [f\"Student_{i+1}\" for i in range(population_size)]\n",
        "\n",
        "sample = random.sample(population, sample_size)\n",
        "print(\"Simple Random Sample:\", sample)\n"
      ],
      "metadata": {
        "id": "4SVexd8KXPh6",
        "outputId": "5518cf29-2ae5-496d-a9eb-08329dea9a8e",
        "colab": {
          "base_uri": "https://localhost:8080/"
        }
      },
      "execution_count": 2,
      "outputs": [
        {
          "output_type": "stream",
          "name": "stdout",
          "text": [
            "Simple Random Sample: ['Student_731', 'Student_295', 'Student_998', 'Student_156', 'Student_590', 'Student_997', 'Student_275', 'Student_712', 'Student_828', 'Student_152', 'Student_423', 'Student_113', 'Student_235', 'Student_664', 'Student_365', 'Student_703', 'Student_454', 'Student_393', 'Student_891', 'Student_845', 'Student_726', 'Student_216', 'Student_986', 'Student_496', 'Student_967', 'Student_725', 'Student_505', 'Student_605', 'Student_989', 'Student_747', 'Student_874', 'Student_267', 'Student_352', 'Student_402', 'Student_675', 'Student_258', 'Student_579', 'Student_443', 'Student_95', 'Student_424', 'Student_571', 'Student_875', 'Student_817', 'Student_855', 'Student_382', 'Student_785', 'Student_320', 'Student_480', 'Student_836', 'Student_337']\n"
          ]
        }
      ]
    },
    {
      "cell_type": "code",
      "source": [
        "\n",
        "import random\n",
        "population_size =1000\n",
        "\n",
        "sample_size = 50\n",
        "\n",
        "k = population_size // sample_size\n",
        "\n",
        "start = random.randint(1, k)\n",
        "\n",
        "population = [f\"Student_{i+1}\" for i in range (population_size)]\n",
        "\n",
        "sample = [population [i] for i in range(start-1, len (population), k)]\n",
        "print(\"Systematic Random Sample:\", sample)"
      ],
      "metadata": {
        "id": "Ov6roH8QYKMH",
        "outputId": "b3e3c6a4-4b9e-4be6-fbcf-e30baa75f496",
        "colab": {
          "base_uri": "https://localhost:8080/"
        }
      },
      "execution_count": 4,
      "outputs": [
        {
          "output_type": "stream",
          "name": "stdout",
          "text": [
            "Systematic Random Sample: ['Student_3', 'Student_23', 'Student_43', 'Student_63', 'Student_83', 'Student_103', 'Student_123', 'Student_143', 'Student_163', 'Student_183', 'Student_203', 'Student_223', 'Student_243', 'Student_263', 'Student_283', 'Student_303', 'Student_323', 'Student_343', 'Student_363', 'Student_383', 'Student_403', 'Student_423', 'Student_443', 'Student_463', 'Student_483', 'Student_503', 'Student_523', 'Student_543', 'Student_563', 'Student_583', 'Student_603', 'Student_623', 'Student_643', 'Student_663', 'Student_683', 'Student_703', 'Student_723', 'Student_743', 'Student_763', 'Student_783', 'Student_803', 'Student_823', 'Student_843', 'Student_863', 'Student_883', 'Student_903', 'Student_923', 'Student_943', 'Student_963', 'Student_983']\n"
          ]
        }
      ]
    }
  ],
  "metadata": {
    "colab": {
      "name": "Prompting.ipynb",
      "toc_visible": true,
      "provenance": [],
      "include_colab_link": true
    },
    "google": {
      "image_path": "/static/site-assets/images/docs/logo-python.svg",
      "keywords": [
        "examples",
        "gemini",
        "beginner",
        "googleai",
        "quickstart",
        "python",
        "text",
        "chat",
        "vision",
        "embed"
      ]
    },
    "kernelspec": {
      "display_name": "Python 3",
      "name": "python3"
    }
  },
  "nbformat": 4,
  "nbformat_minor": 0
}