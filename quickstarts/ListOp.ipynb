{
  "cells": [
    {
      "cell_type": "code",
      "source": [
        "\n",
        "# Exercise 1: Working with Integers and Floats\n",
        "integer_var = 10\n",
        "float_var = 5.5\n",
        "result = integer_var + float_var\n",
        "print(\"Exercise 1 Result:\", result)\n",
        "\n",
        "# Exercise 2: Type Conversion (Integer to Float)\n",
        "int_var = 42\n",
        "float_converted = float(int_var)\n",
        "print(\"Exercise 2 Original Integer:\", int_var)\n",
        "print(\"Exercise 2 Converted to Float:\", float_converted)\n",
        "\n",
        "# Exercise 3: String to Integer Conversion\n",
        "string_number = \"42\"\n",
        "integer_converted = int(string_number)\n",
        "print(\"Exercise 3  string_number:\", string_number)\n",
        "print(\"Exercise 3 Converted Integer:\", integer_converted)\n",
        "\n",
        "# Exercise 4: Casting a Float to Integer\n",
        "float_val = 8.75\n",
        "integer_cast = int(float_val)\n",
        "print(\"Exercise 4 Original Float:\", float_val)\n",
        "print(\"Exercise 4 Cast to Integer:\", integer_cast)\n",
        "\n",
        "# Exercise 5: Type Checking\n",
        "int_check = 100\n",
        "float_check = 10.5\n",
        "string_check = \"Hello, World!\"\n",
        "print(\"Exercise 5 Integer Type:\", type(int_check))\n",
        "print(\"Exercise 5 Float Type:\", type(float_check))\n",
        "print(\"Exercise 5 String Type:\", type(string_check))\n",
        "\n",
        "# Exercise 6: String Concatenation\n",
        "string1 = \"Hello\"\n",
        "string2 = \"World\"\n",
        "concatenated = string1 + \" \" + string2\n",
        "print(\"Exercise 6 Concatenated Strings:\", concatenated)\n",
        "\n",
        "number = 123\n",
        "number_to_string = str(number)\n",
        "concatenated_with_number = number_to_string + \" is a number\"\n",
        "print(\"Exercise 6 String with Number:\", concatenated_with_number)\n",
        "\n",
        "# Exercise 6: String SPace\n",
        "string1 = \"Hello\"\n",
        "string2 = \"World\"\n",
        "concatenated = string1 + \" \" + string2\n",
        "print(\"Exercise 6 Concatenated Strings:\", concatenated)\n",
        "\n",
        "number = 123\n",
        "number_to_string = str(number)\n",
        "concatenated_with_number = number_to_string + \" is a number\"\n",
        "print(\"Exercise 6 String with Number:\", concatenated_with_number)\n",
        "\n",
        "# Exercise 7: User Input and Type Casting\n",
        "user_input = input(\"Enter a number: \")\n",
        "converted_input = int(user_input)\n",
        "result_operation = converted_input * 2\n",
        "print(\"Exercise 7 Result of Operation:\", result_operation)\n",
        "\n",
        "# Exercise 8: Converting Boolean to Integer\n",
        "bool_var = True\n",
        "print(\"Exercise 8 Original Boolean:\", bool_var)\n",
        "bool_to_int = int(bool_var)\n",
        "print(\"Exercise 8 Converted to Integer:\", bool_to_int)\n",
        "\n",
        "# Exercise 9: Complex Number Operations\n",
        "complex_num = 3 + 4j\n",
        "print(\"Exercise 9 Complex Number:\", complex_num)\n",
        "print(\"Exercise 9 Real Part:\", complex_num.real)\n",
        "print(\"Exercise 9 Imaginary Part:\", complex_num.imag)\n",
        "\n",
        "# Exercise 10: Type Conversion Challenge\n",
        "string_float = \"3.1415\"\n",
        "converted_float = float(string_float)\n",
        "converted_int = int(converted_float)\n",
        "print(\"Exercise 10 Original String:\", string_float)\n",
        "print(\"Exercise 10 Converted to Float:\", converted_float)\n",
        "print(\"Exercise 10 Converted to Integer:\", converted_int)\n"
      ],
      "metadata": {
        "id": "PalGQF0XeKtS",
        "outputId": "93f74cab-fb13-402f-d326-af0bfb7bc438",
        "colab": {
          "base_uri": "https://localhost:8080/"
        }
      },
      "execution_count": 10,
      "outputs": [
        {
          "output_type": "stream",
          "name": "stdout",
          "text": [
            "Exercise 1 Result: 15.5\n",
            "Exercise 2 Original Integer: 42\n",
            "Exercise 2 Converted to Float: 42.0\n",
            "Exercise 3  string_number: 42\n",
            "Exercise 3 Converted Integer: 42\n",
            "Exercise 4 Original Float: 8.75\n",
            "Exercise 4 Cast to Integer: 8\n",
            "Exercise 5 Integer Type: <class 'int'>\n",
            "Exercise 5 Float Type: <class 'float'>\n",
            "Exercise 5 String Type: <class 'str'>\n",
            "Exercise 6 Concatenated Strings: Hello World\n",
            "Exercise 6 String with Number: 123 is a number\n",
            "Enter a number: 45\n",
            "Exercise 7 Result of Operation: 90\n",
            "Exercise 8 Original Boolean: True\n",
            "Exercise 8 Converted to Integer: 1\n",
            "Exercise 9 Complex Number: (3+4j)\n",
            "Exercise 9 Real Part: 3.0\n",
            "Exercise 9 Imaginary Part: 4.0\n",
            "Exercise 10 Original String: 3.1415\n",
            "Exercise 10 Converted to Float: 3.1415\n",
            "Exercise 10 Converted to Integer: 3\n"
          ]
        }
      ]
    },
    {
      "cell_type": "code",
      "source": [
        "\n",
        "# Exercise 1: String Addition (Concatenation)\n",
        "string1 = \"Hello\"\n",
        "string2 = \"World\"\n",
        "concatenated_string = string1 + \" \" + string2\n",
        "print(\"Exercise 1 Concatenated String:\", concatenated_string)\n",
        "\n",
        "# Exercise 2: Multiline String\n",
        "multiline_string = \"\"\"Roses are red,\n",
        "Violets are blue,\n",
        "This is a multiline string,\n",
        "Just for you.\"\"\"\n",
        "print(\"Exercise 2 Multiline String:\")\n",
        "print(multiline_string)\n",
        "\n",
        "# Exercise 3: Convert to Uppercase\n",
        "user_input_upper = input(\"Enter a string to convert to uppercase: \")\n",
        "uppercase_string = user_input_upper.upper()\n",
        "print(\"Exercise 3 Uppercase String:\", uppercase_string)\n",
        "\n",
        "# Exercise 4: Convert to Lowercase\n",
        "sample_string = \"This Is A Sample String\"\n",
        "lowercase_string = sample_string.lower()\n",
        "print(\"Exercise 4 Lowercase String:\", lowercase_string)\n",
        "\n",
        "# Exercise 5: String Repetition\n",
        "repeat_string = \"Echo! \"\n",
        "repeated_string = repeat_string * 5\n",
        "print(\"Exercise 5 Repeated String:\", repeated_string)\n"
      ],
      "metadata": {
        "id": "cFcdQhcaoFiT",
        "outputId": "c5fce28a-70fa-472a-f8b4-8d463a944c3a",
        "colab": {
          "base_uri": "https://localhost:8080/"
        }
      },
      "execution_count": 11,
      "outputs": [
        {
          "output_type": "stream",
          "name": "stdout",
          "text": [
            "Exercise 1 Concatenated String: Hello World\n",
            "Exercise 2 Multiline String:\n",
            "Roses are red,\n",
            "Violets are blue,\n",
            "This is a multiline string,\n",
            "Just for you.\n",
            "Enter a string to convert to uppercase: sada\n",
            "Exercise 3 Uppercase String: SADA\n",
            "Exercise 4 Lowercase String: this is a sample string\n",
            "Exercise 5 Repeated String: Echo! Echo! Echo! Echo! Echo! \n"
          ]
        }
      ]
    },
    {
      "cell_type": "code",
      "source": [
        "str = \"Hello World\"\n",
        "print (str[5:11])"
      ],
      "metadata": {
        "id": "dKHHEyuGoXwS",
        "outputId": "69dfa848-9dfd-4e4b-a3ff-9130edd23dd4",
        "colab": {
          "base_uri": "https://localhost:8080/"
        }
      },
      "execution_count": 16,
      "outputs": [
        {
          "output_type": "stream",
          "name": "stdout",
          "text": [
            " World\n"
          ]
        }
      ]
    },
    {
      "cell_type": "code",
      "source": [
        "x = \"Hello\"\n",
        "y = \"abc\"\n",
        "x = y\n",
        "print(y)\n",
        "print(x == y)"
      ],
      "metadata": {
        "id": "tL0aqSPSp4Xf",
        "outputId": "543defce-0dad-454b-d047-91e3ebc4ed7e",
        "colab": {
          "base_uri": "https://localhost:8080/"
        }
      },
      "execution_count": 19,
      "outputs": [
        {
          "output_type": "stream",
          "name": "stdout",
          "text": [
            "abc\n",
            "True\n"
          ]
        }
      ]
    },
    {
      "cell_type": "code",
      "source": [
        "name = \"Biswa\"\n",
        "age=33\n",
        "print(\"my name is {} and my age is {}\".format(name,age))\n",
        "print(f\"my name is {name} and my age is {age}\")\n",
        "print(\"my name is %s and my age is %d\" %(name,age))"
      ],
      "metadata": {
        "id": "L_H3Hg4vdS5e",
        "outputId": "367082db-5af9-4289-fb00-81d305be3d94",
        "colab": {
          "base_uri": "https://localhost:8080/"
        }
      },
      "execution_count": 12,
      "outputs": [
        {
          "output_type": "stream",
          "name": "stdout",
          "text": [
            "my name is Biswa and my age is 33\n",
            "my name is Biswa and my age is 33\n",
            "my name is Biswa and my age is 33\n"
          ]
        }
      ]
    },
    {
      "cell_type": "code",
      "source": [
        "num = 123.1234\n",
        "print(f\"Formatted Number: {num:2f}\")\n",
        "num1 = 1231234\n",
        "print(f\"Formatted Number: {num1:,}\")"
      ],
      "metadata": {
        "id": "T4CNJgpOgSeN",
        "outputId": "038a8b96-d0ec-42b1-c243-c878e67ef335",
        "colab": {
          "base_uri": "https://localhost:8080/"
        }
      },
      "execution_count": 19,
      "outputs": [
        {
          "output_type": "stream",
          "name": "stdout",
          "text": [
            "Formatted Number: 123.123400\n",
            "Formatted Number: 1,231,234\n"
          ]
        }
      ]
    },
    {
      "cell_type": "code",
      "source": [
        "print(f\"{'left':<10}{'center':^10}{'right':>10}\")"
      ],
      "metadata": {
        "id": "yYd8RGtfhol4",
        "outputId": "dccf2959-dbbe-454b-b506-4110b0bc618d",
        "colab": {
          "base_uri": "https://localhost:8080/"
        }
      },
      "execution_count": 20,
      "outputs": [
        {
          "output_type": "stream",
          "name": "stdout",
          "text": [
            "left        center       right\n"
          ]
        }
      ]
    },
    {
      "cell_type": "code",
      "source": [
        "\n",
        "print(\"he said \\\"its a sunny day\\\"\")"
      ],
      "metadata": {
        "id": "pF62cOvLiFbg",
        "outputId": "441a0169-8947-41af-9b4e-eda2f457d451",
        "colab": {
          "base_uri": "https://localhost:8080/"
        }
      },
      "execution_count": 26,
      "outputs": [
        {
          "output_type": "stream",
          "name": "stdout",
          "text": [
            "he said \"its a sunny day\"\n"
          ]
        }
      ]
    },
    {
      "cell_type": "code",
      "source": [
        "print(\"it has\", 76 , \"methods\")"
      ],
      "metadata": {
        "id": "e3TqiauWi_OZ",
        "outputId": "78625207-36d1-4623-d3c0-66d829ab3dbf",
        "colab": {
          "base_uri": "https://localhost:8080/"
        }
      },
      "execution_count": 28,
      "outputs": [
        {
          "output_type": "stream",
          "name": "stdout",
          "text": [
            "it has 76 methods\n"
          ]
        }
      ]
    },
    {
      "cell_type": "code",
      "source": [
        "fruits = [\"banana\", \"apple\", \"orange\"]\n",
        "fruits.reverse\n",
        "print(fruits.reverse)\n",
        "print(type(fruits))"
      ],
      "metadata": {
        "id": "qB_isWBYjyU1",
        "outputId": "391abebf-bea0-4b42-a59f-3b42643df0a8",
        "colab": {
          "base_uri": "https://localhost:8080/"
        }
      },
      "execution_count": 31,
      "outputs": [
        {
          "output_type": "stream",
          "name": "stdout",
          "text": [
            "<built-in method reverse of list object at 0x7953716f5640>\n",
            "<class 'list'>\n"
          ]
        }
      ]
    },
    {
      "cell_type": "code",
      "source": [
        "name = input(\"enter your name: \")\n",
        "print(f\"\\\"Hello, {name}! Welcome to Python programming.\\\"\")"
      ],
      "metadata": {
        "id": "4FRN898bkkpG",
        "outputId": "a4f042db-d726-433d-c44b-3a754da39603",
        "colab": {
          "base_uri": "https://localhost:8080/"
        }
      },
      "execution_count": 37,
      "outputs": [
        {
          "output_type": "stream",
          "name": "stdout",
          "text": [
            "enter your name: Biswa\n",
            "\"Hello, Biswa! Welcome to Python programming.\"\n"
          ]
        }
      ]
    },
    {
      "cell_type": "code",
      "source": [
        "x = float(input())\n",
        "y = float(input())\n",
        "r= x+y\n",
        "print(f\"result is {r:.2f}\")\n"
      ],
      "metadata": {
        "id": "W53IVNQflNkt",
        "outputId": "46f6de72-e64a-415d-84f4-305537807af6",
        "colab": {
          "base_uri": "https://localhost:8080/"
        }
      },
      "execution_count": 43,
      "outputs": [
        {
          "output_type": "stream",
          "name": "stdout",
          "text": [
            "6\n",
            "5\n",
            "result is 11.000000\n"
          ]
        }
      ]
    },
    {
      "cell_type": "code",
      "source": [
        "name = \"Alice\"\n",
        "age = 25\n",
        "city = \"New York\"\n",
        "sentence = f\"{name} is {age} years old and lives in {city}.\"\n",
        "print(sentence)"
      ],
      "metadata": {
        "id": "t_dwO-jqiO9A",
        "outputId": "1bf02e2c-c1fc-4cda-a2bd-0aa451d0345f",
        "colab": {
          "base_uri": "https://localhost:8080/"
        }
      },
      "execution_count": 44,
      "outputs": [
        {
          "output_type": "stream",
          "name": "stdout",
          "text": [
            "Alice is 25 years old and lives in New York.\n"
          ]
        }
      ]
    },
    {
      "cell_type": "code",
      "source": [
        "celsius = float(input(\"Enter the temperature in Celsius: \"))\n",
        "fahrenheit = (celsius * 9/5) + 32\n",
        "print(f\"The temp is {celsius:.2f}°C or {fahrenheit:.2f}°F.\")"
      ],
      "metadata": {
        "id": "1xQBsC6JmY1X",
        "outputId": "9d6178da-bd34-4801-fc4e-c6aa4d9e856f",
        "colab": {
          "base_uri": "https://localhost:8080/"
        }
      },
      "execution_count": 45,
      "outputs": [
        {
          "output_type": "stream",
          "name": "stdout",
          "text": [
            "Enter the temperature in Celsius: 45\n",
            "The temperature is 45.00°C or 113.00°F.\n"
          ]
        }
      ]
    },
    {
      "cell_type": "code",
      "source": [
        "item_name = \"Laptop\"\n",
        "price = 999.9\n",
        "quantity = 2\n",
        "total_cost = price * quantity\n",
        "\n",
        "print(\n",
        "    f\"-----------------------------\\n\"\n",
        "    f\"Item: {item_name}\\n\"\n",
        "    f\"Price: ${price:.2f}\\n\"\n",
        "    f\"Quantity: {quantity}\\n\"\n",
        "    f\"Total Cost: ${total_cost:.2f}\\n\"\n",
        "    f\"-----------------------------\"\n",
        "    )"
      ],
      "metadata": {
        "id": "1zJj9QsPmjss",
        "outputId": "8212582b-3028-402e-b45e-0aad3f94921c",
        "colab": {
          "base_uri": "https://localhost:8080/"
        }
      },
      "execution_count": 48,
      "outputs": [
        {
          "output_type": "stream",
          "name": "stdout",
          "text": [
            "-----------------------------\n",
            "Item: Laptop\n",
            "Price: $999.90\n",
            "Quantity: 2\n",
            "Total Cost: $1999.80\n",
            "-----------------------------\n"
          ]
        }
      ]
    },
    {
      "cell_type": "code",
      "source": [
        "num = list(range(100))\n",
        "print(num)\n",
        "print(num[1:100])\n",
        "print(num[0:100:5])"
      ],
      "metadata": {
        "id": "TS6UXpyfvCc7",
        "outputId": "1153582b-f148-431d-d4ad-d4d398ba5900",
        "colab": {
          "base_uri": "https://localhost:8080/"
        }
      },
      "execution_count": 55,
      "outputs": [
        {
          "output_type": "stream",
          "name": "stdout",
          "text": [
            "[0, 1, 2, 3, 4, 5, 6, 7, 8, 9, 10, 11, 12, 13, 14, 15, 16, 17, 18, 19, 20, 21, 22, 23, 24, 25, 26, 27, 28, 29, 30, 31, 32, 33, 34, 35, 36, 37, 38, 39, 40, 41, 42, 43, 44, 45, 46, 47, 48, 49, 50, 51, 52, 53, 54, 55, 56, 57, 58, 59, 60, 61, 62, 63, 64, 65, 66, 67, 68, 69, 70, 71, 72, 73, 74, 75, 76, 77, 78, 79, 80, 81, 82, 83, 84, 85, 86, 87, 88, 89, 90, 91, 92, 93, 94, 95, 96, 97, 98, 99]\n",
            "[1, 2, 3, 4, 5, 6, 7, 8, 9, 10, 11, 12, 13, 14, 15, 16, 17, 18, 19, 20, 21, 22, 23, 24, 25, 26, 27, 28, 29, 30, 31, 32, 33, 34, 35, 36, 37, 38, 39, 40, 41, 42, 43, 44, 45, 46, 47, 48, 49, 50, 51, 52, 53, 54, 55, 56, 57, 58, 59, 60, 61, 62, 63, 64, 65, 66, 67, 68, 69, 70, 71, 72, 73, 74, 75, 76, 77, 78, 79, 80, 81, 82, 83, 84, 85, 86, 87, 88, 89, 90, 91, 92, 93, 94, 95, 96, 97, 98, 99]\n",
            "[0, 5, 10, 15, 20, 25, 30, 35, 40, 45, 50, 55, 60, 65, 70, 75, 80, 85, 90, 95]\n"
          ]
        }
      ]
    },
    {
      "cell_type": "code",
      "source": [
        "fruits = [\"banana\", \"Apple\", \"cherry\"]\n",
        "fruits.append(\"Orange\")\n",
        "fruits.sort()\n",
        "print(fruits)\n",
        "fruits.sort(reverse=True)\n",
        "print(fruits)\n",
        "fruits.sort(key=str.lower)\n",
        "print(fruits)\n"
      ],
      "metadata": {
        "id": "snhTx3dxwH7J",
        "outputId": "19d90662-cea0-4270-bc58-eb3e5680c23e",
        "colab": {
          "base_uri": "https://localhost:8080/"
        }
      },
      "execution_count": 64,
      "outputs": [
        {
          "output_type": "stream",
          "name": "stdout",
          "text": [
            "['Apple', 'Orange', 'banana', 'cherry']\n",
            "['cherry', 'banana', 'Orange', 'Apple']\n",
            "['Apple', 'banana', 'cherry', 'Orange']\n",
            "['Apple', 'banana', 'cherry', 'Orange']\n"
          ]
        }
      ]
    },
    {
      "cell_type": "code",
      "source": [
        "fruits = (\"banana\", \"Apple\", \"cherry\")\n",
        "print(type(fruits))\n",
        "fruits.index(\"Orange\")\n"
      ],
      "metadata": {
        "id": "_HGyleymzqRU",
        "outputId": "097a9a69-5115-4136-d344-ff0a1c47d639",
        "colab": {
          "base_uri": "https://localhost:8080/",
          "height": 193
        }
      },
      "execution_count": 67,
      "outputs": [
        {
          "output_type": "stream",
          "name": "stdout",
          "text": [
            "<class 'tuple'>\n"
          ]
        },
        {
          "output_type": "error",
          "ename": "ValueError",
          "evalue": "tuple.index(x): x not in tuple",
          "traceback": [
            "\u001b[0;31m---------------------------------------------------------------------------\u001b[0m",
            "\u001b[0;31mValueError\u001b[0m                                Traceback (most recent call last)",
            "\u001b[0;32m<ipython-input-67-fa898a0f1bee>\u001b[0m in \u001b[0;36m<cell line: 3>\u001b[0;34m()\u001b[0m\n\u001b[1;32m      1\u001b[0m \u001b[0mfruits\u001b[0m \u001b[0;34m=\u001b[0m \u001b[0;34m(\u001b[0m\u001b[0;34m\"banana\"\u001b[0m\u001b[0;34m,\u001b[0m \u001b[0;34m\"Apple\"\u001b[0m\u001b[0;34m,\u001b[0m \u001b[0;34m\"cherry\"\u001b[0m\u001b[0;34m)\u001b[0m\u001b[0;34m\u001b[0m\u001b[0;34m\u001b[0m\u001b[0m\n\u001b[1;32m      2\u001b[0m \u001b[0mprint\u001b[0m\u001b[0;34m(\u001b[0m\u001b[0mtype\u001b[0m\u001b[0;34m(\u001b[0m\u001b[0mfruits\u001b[0m\u001b[0;34m)\u001b[0m\u001b[0;34m)\u001b[0m\u001b[0;34m\u001b[0m\u001b[0;34m\u001b[0m\u001b[0m\n\u001b[0;32m----> 3\u001b[0;31m \u001b[0mfruits\u001b[0m\u001b[0;34m.\u001b[0m\u001b[0mindex\u001b[0m\u001b[0;34m(\u001b[0m\u001b[0;34m\"Orange\"\u001b[0m\u001b[0;34m)\u001b[0m\u001b[0;34m\u001b[0m\u001b[0;34m\u001b[0m\u001b[0m\n\u001b[0m",
            "\u001b[0;31mValueError\u001b[0m: tuple.index(x): x not in tuple"
          ]
        }
      ]
    },
    {
      "cell_type": "code",
      "source": [
        "cars = [\"Toyota\", \"Honda\", \"Ford\", \"BMW\", \"Tesla\"]\n",
        "\n",
        "print(\"First three cars:\", cars[:3])\n",
        "\n",
        "print(\"Cars in reverse order:\", cars[::-1])\n",
        "\n",
        "print(\"Every second car:\", cars[::2])"
      ],
      "metadata": {
        "id": "nxSePagN0P-g",
        "outputId": "bf434e79-6245-46ce-b243-914751354085",
        "colab": {
          "base_uri": "https://localhost:8080/"
        }
      },
      "execution_count": 68,
      "outputs": [
        {
          "output_type": "stream",
          "name": "stdout",
          "text": [
            "First three cars: ['Toyota', 'Honda', 'Ford']\n",
            "Cars in reverse order: ['Tesla', 'BMW', 'Ford', 'Honda', 'Toyota']\n",
            "Every second car: ['Toyota', 'Ford', 'Tesla']\n"
          ]
        }
      ]
    },
    {
      "cell_type": "code",
      "source": [
        "my_list = []\n",
        "my_list.append(\"Apple\")\n",
        "my_list.append(\"Banana\")\n",
        "my_list.append(\"Cherry\")\n",
        "print(\"List after appending:\", my_list)\n",
        "\n",
        "my_list.insert(1, \"Orange\")\n",
        "print(\"List after inserting at second position:\", my_list)\n",
        "\n",
        "my_list.remove(\"Banana\")\n",
        "print(\"List after removing an element:\", my_list)"
      ],
      "metadata": {
        "id": "fXjtVE6j0aIi",
        "outputId": "967a11cd-5d7a-40e1-db0b-1999202efea3",
        "colab": {
          "base_uri": "https://localhost:8080/"
        }
      },
      "execution_count": 69,
      "outputs": [
        {
          "output_type": "stream",
          "name": "stdout",
          "text": [
            "List after appending: ['Apple', 'Banana', 'Cherry']\n",
            "List after inserting at second position: ['Apple', 'Orange', 'Banana', 'Cherry']\n",
            "List after removing an element: ['Apple', 'Orange', 'Cherry']\n"
          ]
        }
      ]
    },
    {
      "cell_type": "code",
      "source": [
        "numbers = [10, 25, 5, 7, 30, 15]\n",
        "\n",
        "largest = max(numbers)\n",
        "smallest = min(numbers)\n",
        "\n",
        "result = largest + smallest\n",
        "print(f\"Largest: {largest}, Smallest: {smallest}, Sum: {result}\")"
      ],
      "metadata": {
        "id": "CIMIfI6J0h8U",
        "outputId": "d33a51b5-2f37-4de2-ced1-2cfe49b255a7",
        "colab": {
          "base_uri": "https://localhost:8080/"
        }
      },
      "execution_count": 70,
      "outputs": [
        {
          "output_type": "stream",
          "name": "stdout",
          "text": [
            "Largest: 30, Smallest: 5, Sum: 35\n"
          ]
        }
      ]
    },
    {
      "cell_type": "code",
      "source": [
        "numbers = [10, 20, 30, 40, 50]\n",
        "\n",
        "numbers[1] = 100\n",
        "print(\"List after modification:\", numbers)"
      ],
      "metadata": {
        "id": "PqjP8uvJ0oVA",
        "outputId": "ad10e55a-f843-4640-82a6-902e2634b1f0",
        "colab": {
          "base_uri": "https://localhost:8080/"
        }
      },
      "execution_count": 71,
      "outputs": [
        {
          "output_type": "stream",
          "name": "stdout",
          "text": [
            "List after modification: [10, 100, 30, 40, 50]\n"
          ]
        }
      ]
    }
  ],
  "metadata": {
    "colab": {
      "name": "Prompting.ipynb",
      "toc_visible": true,
      "provenance": []
    },
    "google": {
      "image_path": "/static/site-assets/images/docs/logo-python.svg",
      "keywords": [
        "examples",
        "gemini",
        "beginner",
        "googleai",
        "quickstart",
        "python",
        "text",
        "chat",
        "vision",
        "embed"
      ]
    },
    "kernelspec": {
      "display_name": "Python 3",
      "name": "python3"
    }
  },
  "nbformat": 4,
  "nbformat_minor": 0
}