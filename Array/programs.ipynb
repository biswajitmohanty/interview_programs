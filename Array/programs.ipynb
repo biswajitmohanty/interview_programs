{
  "cells": [
    {
      "cell_type": "code",
      "source": [
        "!pip install numpy\n"
      ],
      "metadata": {
        "id": "AuISQ1Awr2U0",
        "outputId": "cb01bfe5-88a6-47e0-ef90-543972a35048",
        "colab": {
          "base_uri": "https://localhost:8080/"
        }
      },
      "execution_count": 1,
      "outputs": [
        {
          "output_type": "stream",
          "name": "stdout",
          "text": [
            "Requirement already satisfied: numpy in /usr/local/lib/python3.10/dist-packages (1.26.4)\n"
          ]
        }
      ]
    },
    {
      "cell_type": "code",
      "source": [
        "import numpy as np\n",
        "arr = np.array([{1,2}, 2, 3, 4, 5])\n",
        "print(arr)\n",
        "print(type(arr), arr.shape)\n",
        "print(arr[0])\n",
        "arr[4] ={1,2,3}\n",
        "print(arr)\n",
        "print(type(arr[0]), type(arr[1]), type(arr[4]))"
      ],
      "metadata": {
        "id": "mmwsailcr9qP",
        "outputId": "0e814158-54e8-4f22-ab30-992db08f35c8",
        "colab": {
          "base_uri": "https://localhost:8080/"
        }
      },
      "execution_count": 10,
      "outputs": [
        {
          "output_type": "stream",
          "name": "stdout",
          "text": [
            "[{1, 2} 2 3 4 5]\n",
            "<class 'numpy.ndarray'> (5,)\n",
            "{1, 2}\n",
            "[{1, 2} 2 3 4 {1, 2, 3}]\n",
            "<class 'set'> <class 'int'> <class 'set'>\n"
          ]
        }
      ]
    },
    {
      "cell_type": "code",
      "source": [
        "c = np.zeros((2,3))\n",
        "print(c)\n",
        "b =np.ones((2,3))\n",
        "print(b)"
      ],
      "metadata": {
        "id": "rlEMaNNRumZw",
        "outputId": "b57227bc-97f6-4c4d-906c-e5db076a3b03",
        "colab": {
          "base_uri": "https://localhost:8080/"
        }
      },
      "execution_count": 25,
      "outputs": [
        {
          "output_type": "stream",
          "name": "stdout",
          "text": [
            "[[0. 0. 0.]\n",
            " [0. 0. 0.]]\n",
            "[[1. 1. 1.]\n",
            " [1. 1. 1.]]\n"
          ]
        }
      ]
    },
    {
      "cell_type": "code",
      "source": [
        "a = np.full((3,4),88)\n",
        "print(a)"
      ],
      "metadata": {
        "id": "AAER8jbkv1LO",
        "outputId": "4db2f02c-38f5-4737-f58d-1898fba032f0",
        "colab": {
          "base_uri": "https://localhost:8080/"
        }
      },
      "execution_count": 26,
      "outputs": [
        {
          "output_type": "stream",
          "name": "stdout",
          "text": [
            "[[88 88 88 88]\n",
            " [88 88 88 88]\n",
            " [88 88 88 88]]\n"
          ]
        }
      ]
    },
    {
      "cell_type": "code",
      "source": [
        "f = np.arange(10, 1000, 100)\n",
        "print(f)\n",
        "g = np.linspace(0,10,num=5)\n",
        "print(g)"
      ],
      "metadata": {
        "id": "G1LGX0gPwuFF",
        "outputId": "2ab950d2-084e-48b4-a99a-c308dd04e6ab",
        "colab": {
          "base_uri": "https://localhost:8080/"
        }
      },
      "execution_count": 36,
      "outputs": [
        {
          "output_type": "stream",
          "name": "stdout",
          "text": [
            "[ 10 110 210 310 410 510 610 710 810 910]\n",
            "[ 0.   2.5  5.   7.5 10. ]\n"
          ]
        }
      ]
    },
    {
      "cell_type": "code",
      "source": [
        "a = np.array([1,2,4])\n",
        "b = np.array([3,56,7])\n",
        "r = np.vstack((a,b))\n",
        "print(r)\n",
        "z = np.hstack((a,b))\n",
        "print(z)"
      ],
      "metadata": {
        "id": "dJ4fCwtnyCpU",
        "outputId": "52ae11a7-f66b-4d47-d048-f09d64a428aa",
        "colab": {
          "base_uri": "https://localhost:8080/"
        }
      },
      "execution_count": 39,
      "outputs": [
        {
          "output_type": "stream",
          "name": "stdout",
          "text": [
            "[[ 1  2  4]\n",
            " [ 3 56  7]]\n",
            "[ 1  2  4  3 56  7]\n"
          ]
        }
      ]
    },
    {
      "cell_type": "code",
      "source": [
        "a = np.array([[1,2,3,4], [5,6,7,8], [9,10,11,12]])\n",
        "b = a[:2,:3]\n",
        "print(b)\n",
        "c = a[1:3]\n",
        "print(c)"
      ],
      "metadata": {
        "id": "HKqy7Cbd0IUE",
        "outputId": "f712c133-4f84-4d55-c586-0baa78b9d50a",
        "colab": {
          "base_uri": "https://localhost:8080/"
        }
      },
      "execution_count": 42,
      "outputs": [
        {
          "output_type": "stream",
          "name": "stdout",
          "text": [
            "[[1 2 3]\n",
            " [5 6 7]]\n",
            "[[ 5  6  7  8]\n",
            " [ 9 10 11 12]]\n"
          ]
        }
      ]
    },
    {
      "cell_type": "code",
      "source": [
        "array_1d = np.arange(1, 13)\n",
        "print(array_1d)\n",
        "\n",
        "array_3x4 = np.random.randint(10, 50, size=(3, 4))\n",
        "print(array_3x4)\n",
        "\n",
        "array_1d[array_1d % 2 == 0] = -1\n",
        "print(array_1d)\n",
        "\n",
        "array_3x4 = array_3x4 - 5\n",
        "print(array_3x4)"
      ],
      "metadata": {
        "id": "DtWY4Qpg1pKQ",
        "outputId": "d34f8f84-25fb-4b45-b5d1-fdaa61ef9474",
        "colab": {
          "base_uri": "https://localhost:8080/"
        }
      },
      "execution_count": 44,
      "outputs": [
        {
          "output_type": "stream",
          "name": "stdout",
          "text": [
            "[ 1  2  3  4  5  6  7  8  9 10 11 12]\n",
            "[[31 20 26 31]\n",
            " [43 28 25 46]\n",
            " [26 35 28 14]]\n",
            "[ 1 -1  3 -1  5 -1  7 -1  9 -1 11 -1]\n",
            "[[26 15 21 26]\n",
            " [38 23 20 41]\n",
            " [21 30 23  9]]\n"
          ]
        }
      ]
    },
    {
      "cell_type": "code",
      "source": [
        "last_four = array_1d[-4:]\n",
        "print(last_four)\n",
        "\n",
        "slice_3x4 = array_3x4[:2, -2:]\n",
        "print(slice_3x4)\n",
        "\n",
        "array_1d[1:3] = 100\n",
        "print(array_1d)\n",
        "\n",
        "array_3x4[2, :] = 0\n",
        "print(array_3x4)"
      ],
      "metadata": {
        "id": "3flKh--SBKin",
        "outputId": "7f767b34-ab67-475d-866f-1783adb89fe4",
        "colab": {
          "base_uri": "https://localhost:8080/"
        }
      },
      "execution_count": 45,
      "outputs": [
        {
          "output_type": "stream",
          "name": "stdout",
          "text": [
            "[ 9 -1 11 -1]\n",
            "[[21 26]\n",
            " [20 41]]\n",
            "[  1 100 100  -1   5  -1   7  -1   9  -1  11  -1]\n",
            "[[26 15 21 26]\n",
            " [38 23 20 41]\n",
            " [ 0  0  0  0]]\n"
          ]
        }
      ]
    },
    {
      "cell_type": "code",
      "source": [
        "indexed_elements = np.array([array_3x4[0, 0], array_3x4[1, 1], array_3x4[2, 2]])\n",
        "print(indexed_elements)\n",
        "\n",
        "array_1d[array_1d > 6] = -array_1d[array_1d > 6]\n",
        "print(array_1d)\n",
        "\n",
        "odd_elements = array_3x4[array_3x4 % 2 != 0]\n",
        "print(odd_elements)"
      ],
      "metadata": {
        "id": "mITMTvs1BNJf",
        "outputId": "bf62e655-7bc1-4125-f89c-cc5f30213282",
        "colab": {
          "base_uri": "https://localhost:8080/"
        }
      },
      "execution_count": 46,
      "outputs": [
        {
          "output_type": "stream",
          "name": "stdout",
          "text": [
            "[26 23  0]\n",
            "[   1 -100 -100   -1    5   -1   -7   -1   -9   -1  -11   -1]\n",
            "[15 21 23 41]\n"
          ]
        }
      ]
    },
    {
      "cell_type": "code",
      "source": [
        "sorted_1d = np.sort(array_1d)\n",
        "print(sorted_1d)\n",
        "\n",
        "sorted_3x4 = np.sort(array_3x4, axis=0)[::-1]\n",
        "print(sorted_3x4)\n",
        "\n",
        "index_max_1d = np.argmax(array_1d)\n",
        "print(index_max_1d)\n",
        "\n",
        "index_min_3x4 = np.argmin(array_3x4)\n",
        "print(index_min_3x4)"
      ],
      "metadata": {
        "id": "CTWqw0EmBNrB",
        "outputId": "26ec9bd0-3cea-4c0d-bebb-ea73a23910fa",
        "colab": {
          "base_uri": "https://localhost:8080/"
        }
      },
      "execution_count": 47,
      "outputs": [
        {
          "output_type": "stream",
          "name": "stdout",
          "text": [
            "[-100 -100  -11   -9   -7   -1   -1   -1   -1   -1    1    5]\n",
            "[[38 23 21 41]\n",
            " [26 15 20 26]\n",
            " [ 0  0  0  0]]\n",
            "4\n",
            "8\n"
          ]
        }
      ]
    },
    {
      "cell_type": "code",
      "source": [
        "new_array_1d = np.random.randint(1, 100, size=12)\n",
        "print(new_array_1d)\n",
        "\n",
        "stacked_v = np.vstack((array_1d, new_array_1d))\n",
        "print(stacked_v)\n",
        "\n",
        "stacked_h = np.column_stack((array_3x4[:, 0], array_3x4[:, 2]))\n",
        "print(stacked_h)"
      ],
      "metadata": {
        "id": "ERPxJ1NDBNuH",
        "outputId": "ab91bf33-870b-420d-aebc-9d38fb335ffd",
        "colab": {
          "base_uri": "https://localhost:8080/"
        }
      },
      "execution_count": 48,
      "outputs": [
        {
          "output_type": "stream",
          "name": "stdout",
          "text": [
            "[88 29 64 88 25 32 21 96 49 57 97 26]\n",
            "[[   1 -100 -100   -1    5   -1   -7   -1   -9   -1  -11   -1]\n",
            " [  88   29   64   88   25   32   21   96   49   57   97   26]]\n",
            "[[26 21]\n",
            " [38 20]\n",
            " [ 0  0]]\n"
          ]
        }
      ]
    },
    {
      "cell_type": "code",
      "source": [
        "indices_where_greater_5 = np.where(array_1d > 5)\n",
        "array_1d[indices_where_greater_5] = 0\n",
        "print(array_1d)\n",
        "\n",
        "max_indices_3x4 = np.where(array_3x4 == np.max(array_3x4))\n",
        "print(max_indices_3x4)"
      ],
      "metadata": {
        "id": "igGEzdGSBNww",
        "outputId": "8f714ae3-f206-4e38-e171-aa7d8bd1d288",
        "colab": {
          "base_uri": "https://localhost:8080/"
        }
      },
      "execution_count": 49,
      "outputs": [
        {
          "output_type": "stream",
          "name": "stdout",
          "text": [
            "[   1 -100 -100   -1    5   -1   -7   -1   -9   -1  -11   -1]\n",
            "(array([1]), array([3]))\n"
          ]
        }
      ]
    },
    {
      "cell_type": "code",
      "source": [],
      "metadata": {
        "id": "oQmBz_E-BNz-"
      },
      "execution_count": null,
      "outputs": []
    },
    {
      "cell_type": "code",
      "source": [],
      "metadata": {
        "id": "OWR3K2kTBN3m"
      },
      "execution_count": null,
      "outputs": []
    }
  ],
  "metadata": {
    "colab": {
      "name": "Prompting.ipynb",
      "toc_visible": true,
      "provenance": []
    },
    "google": {
      "image_path": "/static/site-assets/images/docs/logo-python.svg",
      "keywords": [
        "examples",
        "gemini",
        "beginner",
        "googleai",
        "quickstart",
        "python",
        "text",
        "chat",
        "vision",
        "embed"
      ]
    },
    "kernelspec": {
      "display_name": "Python 3",
      "name": "python3"
    }
  },
  "nbformat": 4,
  "nbformat_minor": 0
}